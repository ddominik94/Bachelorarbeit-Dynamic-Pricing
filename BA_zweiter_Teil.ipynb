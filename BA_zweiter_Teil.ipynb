{
 "cells": [
  {
   "cell_type": "markdown",
   "id": "13f0f766",
   "metadata": {},
   "source": [
    "# Teil II zum Praktischen Teil der Bachelorarbeit zum Thema \n",
    "## Dynamic Pricing in der Luftfahrt: Analyse von Machine-Learning-Algorithmen zur Vorhersage von Flugpreisen\n",
    "#### Von Dominik Lewin, Matrikelnummer 3274837\n",
    "\n",
    "In diesem zweiten Jupyter Notebook wird es darum gehen, die Daten vorzubereiten und für das Training an die verschiedenen ML-Algorithmen zu übergeben. Die Modelle werden optimiert und anschließend getestet. Anschließend wird eine Simulation von Flugbuchungen durchgeführt, um den praktischen Einsatz der ML-Modelle simulieren zu können.\n",
    "\n",
    "Das gesamte Projekt basiert auf dem Vorgehensmodell CRISP-DM, bei dem nach der Datenaufbereitung zunächst das Modeling und anschließend das Testen erfolgen. Aus Gründen der besseren Übersichtlichkeit werden die Schritte \"Trainieren\", \"Optimieren\" und \"Testen\" in diesem Jupyter Notebook immer zusammenhängend je Algorithmus dargestellt, um insbesondere die Modelle und Variablenbelegungen nachvollziehen zu können. \n",
    "\n",
    "Unterschieden wird zudem zwischen dem Regressionsproblem und dem Klassifikationsproblem. Diese werden getrennt voneinander dargestellt, weshalb sich gewisse ML-Algrithmen wiederholen können.\n",
    "\n",
    "\n",
    "# Inhaltsverzeichnis\n",
    "\n",
    "* [1. Auswahl der Merkmale](#auswahl-der-merkmale)\n",
    "* [2. Datenbereinigung](#datenbereinigung)\n",
    "* [3. Datenaufbereitung](#datenaufbereitung)\n",
    "* [4. Erstellen des Trainings- und Testdatensatzes](#datensatz)\n",
    "* [5. Anwendung der ML-Algorithmen (Regressionsproblem)](#anwendung-regressionsproblem)\n",
    "    * [5.1. Lineare Regression](#lineare-regression)\n",
    "    * [5.2. Entscheidungsbäume](#entscheidungsbaeume)\n",
    "    * [5.3. Random Forest](#random-forest)\n",
    "    * [5.4. k-Nearest Neighbor](#k-nearest-neighbor)\n",
    "    * [5.5. SVM](#svm)\n",
    "    * [5.6. MLP](#mlp)\n",
    "* [6. Anwendung der ML-Algorithmen (Klassifikationsproblem)](#anwendung-klassifikationsproblem)\n",
    "    * [6.1. Trainieren aller Algorithmen](#trainieren-aller-algorithmen)\n",
    "    * [6.2. Entscheidungsbäume](#entscheidungsbaeume-2)\n",
    "    * [6.3. Random Forest](#random-forest-2)\n",
    "    * [6.4. k-Nearest Neighbor](#neigh)\n",
    "* [7. Simulation von Flugbuchungen](#simulation)\n",
    "    * [7.1. Regressionsproblem](#simreg)\n",
    "    * [7.2. Klassifikationsproblem](#simklas)\n",
    "* [8. Fazit](#fazit)\n",
    "    * [8.1. Regressionsproblem](#fazit2)\n",
    "    * [8.2. Klassifikationsproblem](#fazit3)\n"
   ]
  },
  {
   "cell_type": "markdown",
   "id": "3583b249",
   "metadata": {},
   "source": [
    "## 1. Auswahl der Merkmale <a class=\"anchor\" id=\"auswahl-der-merkmale\"></a>\n",
    "\n",
    "Die zur Vorhersage am besten geeigneten Merkmale wurden bereits im ersten Notebook herausgearbeitet. Dementsprechend sollen die Merkmale *Zielflughafen*, *Airline* und *Tage bis Abflug* auf jeden Fall verwendet werden, wobei Letzteres noch nicht im Datensatz vorhanden ist und erzeugt werden muss. \n",
    "\n",
    "Zudem sollen auch die Attribute *Abflugzeit* und *Wochentag des Abflugs* beibehalten bzw. erzeugt werden. \n",
    "\n",
    "Natürlich muss auch der *Preis* als Label beibehalten werden. Weitere sinvolle Attribute, die sich beispielsweise aus dem Verhältnis zweier Attribute bilden lassen könnten, wurden nicht gefunden. Dies liegt insbesondere daran, dass es sich größtenteils um kategorische Attribute handelt. \n",
    "\n",
    "Die verbleibenden Attribute werden aus den folgenden Gründen entfernt:\n",
    "\n",
    "- Buchungsdatum: Das genaue Buchungsdatum ist für eine Vorhersage nicht relevant, da es zu einem Overfitting führen könnte. Außerdem ist der Datensatz zu klein, um anzunehmen, dass dieses Attribut einen Einfluss auf den Preis haben könnte.\n",
    "- Wochentag der Buchung: Dieses Attribut hat, wie im vorherigen Kapitel erwähnt, keinen nennenswerten Einfluss auf den Preis.\n",
    "- Abflugdatum: Dieses Attribut ist zu speziell und nicht repräsentativ. Die Anzahl der Tage vor Abflug ist allgemeiner und für ML-Algorithmen besser geeignet.\n",
    "- Abflughafen: Da es sich immer um den Flughafen Hamburg handelt, kann dieses Attribut entfallen.\n",
    "- Ankunftszeit: Die Ankunftszeit hat die selbe Aussagekraft wie die Abflugzeit, weshalb ein Attribut ausreichend ist. Die Ankunftszeit ist lediglich die um die Flugzeit aufaddierte Abflugzeit.\n",
    "\n",
    "## 2. Datenbereinigung <a class=\"anchor\" id=\"datenbereinigung\"></a>\n",
    "\n",
    "Fehlende Werte sollten bereinigt werden, damit ML-Algorithmen mit den Daten arbeiten können. Hierfür gibt es mehrere Möglichkeiten. Diese sind u.a.:\n",
    "\n",
    "- Die entsprechenden Datenpunkte (Zeilen) mit fehlenden Werten werden ersatzlos entfernt.\n",
    "- Das Merkmal wird ersatzlos entfernt (auch für Datenpunkte, die eigentlich einen Wert dieses Attributs besitzen).\n",
    "- Fehlende Werte werden ersetzt (z.B. durch arithmetisches Mittel, Median, null, etc.).\n",
    "\n",
    "Wie zuvor gezeigt, sind lediglich im Attribut *Preis* fehlende Werte vorhanden, weshalb die betreffenden Datenpunkte entfernt werden sollen. Der Umgang mit diesen Werten wurde bereits ausführlich diskutiert. \n",
    "\n",
    "Im Folgenden wird zunächst der Datensatz eingelesen und anschließend die weiteren Attribute hinzugefügt. Das Attribut *Abflugzeit* wird bereits in ein kategorische Attribut umgewandelt (wie es bereits im ersten Jupyter Notebook gezeigt wurde)."
   ]
  },
  {
   "cell_type": "code",
   "execution_count": 3,
   "id": "e055ac02",
   "metadata": {},
   "outputs": [],
   "source": [
    "#Erste Pakete importieren, die im gesamten Notebook mehrfach benötigt werden\n",
    "import matplotlib.pyplot as plt\n",
    "import pandas as pd\n",
    "import numpy as np\n",
    "import datetime\n",
    "from datetime import time\n",
    "from datetime import datetime\n",
    "pd.options.mode.chained_assignment = None\n",
    "import category_encoders as ce\n",
    "import math"
   ]
  },
  {
   "cell_type": "code",
   "execution_count": 4,
   "id": "9ba16faf",
   "metadata": {},
   "outputs": [
    {
     "data": {
      "text/html": [
       "<div>\n",
       "<style scoped>\n",
       "    .dataframe tbody tr th:only-of-type {\n",
       "        vertical-align: middle;\n",
       "    }\n",
       "\n",
       "    .dataframe tbody tr th {\n",
       "        vertical-align: top;\n",
       "    }\n",
       "\n",
       "    .dataframe thead th {\n",
       "        text-align: right;\n",
       "    }\n",
       "</style>\n",
       "<table border=\"1\" class=\"dataframe\">\n",
       "  <thead>\n",
       "    <tr style=\"text-align: right;\">\n",
       "      <th></th>\n",
       "      <th>Buchungsdatum</th>\n",
       "      <th>Abflugdatum</th>\n",
       "      <th>Abflughafen</th>\n",
       "      <th>Zielflughafen</th>\n",
       "      <th>Abflugzeit</th>\n",
       "      <th>Ankunftszeit</th>\n",
       "      <th>Preis</th>\n",
       "      <th>Flugnummer</th>\n",
       "      <th>Airline</th>\n",
       "      <th>Wochentag des Abflugs</th>\n",
       "      <th>Tage bis Abflug</th>\n",
       "    </tr>\n",
       "  </thead>\n",
       "  <tbody>\n",
       "    <tr>\n",
       "      <th>0</th>\n",
       "      <td>2022-11-09</td>\n",
       "      <td>2023-02-26</td>\n",
       "      <td>HAM</td>\n",
       "      <td>LHR</td>\n",
       "      <td>nachmittags</td>\n",
       "      <td>18:40:00</td>\n",
       "      <td>98.0</td>\n",
       "      <td>EW 7460</td>\n",
       "      <td>Eurowings</td>\n",
       "      <td>Sonntag</td>\n",
       "      <td>109</td>\n",
       "    </tr>\n",
       "    <tr>\n",
       "      <th>1</th>\n",
       "      <td>2022-11-10</td>\n",
       "      <td>2023-02-26</td>\n",
       "      <td>HAM</td>\n",
       "      <td>LHR</td>\n",
       "      <td>nachmittags</td>\n",
       "      <td>18:40:00</td>\n",
       "      <td>98.0</td>\n",
       "      <td>EW 7460</td>\n",
       "      <td>Eurowings</td>\n",
       "      <td>Sonntag</td>\n",
       "      <td>108</td>\n",
       "    </tr>\n",
       "    <tr>\n",
       "      <th>2</th>\n",
       "      <td>2022-11-11</td>\n",
       "      <td>2023-02-26</td>\n",
       "      <td>HAM</td>\n",
       "      <td>LHR</td>\n",
       "      <td>nachmittags</td>\n",
       "      <td>18:40:00</td>\n",
       "      <td>98.0</td>\n",
       "      <td>EW 7460</td>\n",
       "      <td>Eurowings</td>\n",
       "      <td>Sonntag</td>\n",
       "      <td>107</td>\n",
       "    </tr>\n",
       "    <tr>\n",
       "      <th>3</th>\n",
       "      <td>2022-11-12</td>\n",
       "      <td>2023-02-26</td>\n",
       "      <td>HAM</td>\n",
       "      <td>LHR</td>\n",
       "      <td>nachmittags</td>\n",
       "      <td>18:40:00</td>\n",
       "      <td>98.0</td>\n",
       "      <td>EW 7460</td>\n",
       "      <td>Eurowings</td>\n",
       "      <td>Sonntag</td>\n",
       "      <td>106</td>\n",
       "    </tr>\n",
       "    <tr>\n",
       "      <th>4</th>\n",
       "      <td>2022-11-13</td>\n",
       "      <td>2023-02-26</td>\n",
       "      <td>HAM</td>\n",
       "      <td>LHR</td>\n",
       "      <td>nachmittags</td>\n",
       "      <td>18:40:00</td>\n",
       "      <td>98.0</td>\n",
       "      <td>EW 7460</td>\n",
       "      <td>Eurowings</td>\n",
       "      <td>Sonntag</td>\n",
       "      <td>105</td>\n",
       "    </tr>\n",
       "  </tbody>\n",
       "</table>\n",
       "</div>"
      ],
      "text/plain": [
       "  Buchungsdatum Abflugdatum Abflughafen Zielflughafen   Abflugzeit  \\\n",
       "0    2022-11-09  2023-02-26         HAM           LHR  nachmittags   \n",
       "1    2022-11-10  2023-02-26         HAM           LHR  nachmittags   \n",
       "2    2022-11-11  2023-02-26         HAM           LHR  nachmittags   \n",
       "3    2022-11-12  2023-02-26         HAM           LHR  nachmittags   \n",
       "4    2022-11-13  2023-02-26         HAM           LHR  nachmittags   \n",
       "\n",
       "  Ankunftszeit  Preis Flugnummer    Airline Wochentag des Abflugs  \\\n",
       "0     18:40:00   98.0    EW 7460  Eurowings               Sonntag   \n",
       "1     18:40:00   98.0    EW 7460  Eurowings               Sonntag   \n",
       "2     18:40:00   98.0    EW 7460  Eurowings               Sonntag   \n",
       "3     18:40:00   98.0    EW 7460  Eurowings               Sonntag   \n",
       "4     18:40:00   98.0    EW 7460  Eurowings               Sonntag   \n",
       "\n",
       "   Tage bis Abflug  \n",
       "0              109  \n",
       "1              108  \n",
       "2              107  \n",
       "3              106  \n",
       "4              105  "
      ]
     },
     "execution_count": 4,
     "metadata": {},
     "output_type": "execute_result"
    }
   ],
   "source": [
    "#Einlesen des Datensatzes. Die beiden Kalenderdaten werden direkt im richtigen Format eingelesen\n",
    "data = pd.read_csv(\"flight_price_data.csv\", \n",
    "                sep=\";\", \n",
    "                parse_dates=[\"Buchungsdatum\", \"Abflugdatum\"])\n",
    "\n",
    "#Funktion, um die Zeiten von Strings in datetime.time-Objekte umzuwandeln\n",
    "def konvertiere(zeit_string):\n",
    "    zeit = datetime.strptime(zeit_string, \"%H:%M:%S\").time()\n",
    "    return zeit\n",
    "\n",
    "#Wende die Funktion auf die Abflugzeit und Ankunftszeit an\n",
    "data[\"Abflugzeit\"] = data[\"Abflugzeit\"].apply(konvertiere)\n",
    "data[\"Ankunftszeit\"] = data[\"Ankunftszeit\"].apply(konvertiere)\n",
    "\n",
    "#Es wird zunächst eine Kopie des Datensatzes erzeugt, um den originalen Datensatz nicht zu verändern\n",
    "df = data.copy()\n",
    "\n",
    "#Hinzufügen der weiteren Attribute\n",
    "#Wochentage hinzufügen (zunächst als Ganzzahl, anschließend Konvertierung in richtigen Wochentag -> nominal)\n",
    "wochentage_mapping={\n",
    "    0: \"Montag\",\n",
    "    1: \"Dienstag\",\n",
    "    2: \"Mittwoch\",\n",
    "    3: \"Donnerstag\",\n",
    "    4: \"Freitag\",\n",
    "    5: \"Samstag\",\n",
    "    6: \"Sonntag\"\n",
    "}\n",
    "df[\"Wochentag des Abflugs\"] = df[\"Abflugdatum\"].dt.dayofweek\n",
    "df[\"Wochentag des Abflugs\"] = df[\"Wochentag des Abflugs\"].map(wochentage_mapping)\n",
    "\n",
    "#Tage bis Abflug hinzufügen\n",
    "df[\"Tage bis Abflug\"] = df[\"Abflugdatum\"]-df[\"Buchungsdatum\"]\n",
    "df[\"Tage bis Abflug\"] = pd.to_timedelta(df[\"Tage bis Abflug\"]).dt.days\n",
    "\n",
    "#Abflugzeit in Kategorien konvertieren (wie in vorherigem Notebook)\n",
    "#Funktion definieren\n",
    "def konvertiere_abflugzeit(abflugzeit):\n",
    "    \n",
    "    if(abflugzeit < time(8,0,0)):\n",
    "        return \"frueh_morgens\"\n",
    "    elif(abflugzeit < time(11,0,0)):\n",
    "        return \"morgens\"\n",
    "    elif(abflugzeit < time(14,0,0)):\n",
    "        return \"mittags\"\n",
    "    elif(abflugzeit < time(18,0,0)):\n",
    "        return \"nachmittags\"\n",
    "    elif(abflugzeit <= time(23,59,59)):\n",
    "        return \"abends\"\n",
    "    else:\n",
    "        #Fehlercode, sollte aber nicht vorkommen\n",
    "        return \"Fehler\"\n",
    "\n",
    "#Wende die Funktion auf die Abflugzeit an -> Attribut wird überschrieben!\n",
    "df[\"Abflugzeit\"] = df[\"Abflugzeit\"].apply(konvertiere_abflugzeit)\n",
    "df.head()"
   ]
  },
  {
   "cell_type": "markdown",
   "id": "1ba1437e",
   "metadata": {},
   "source": [
    "Als nächstes werden die Datenpunkte, die NaN-Werte enthalten, entfernt. Auch die nicht benötigten Attribute werden komplett entfernt, wobei das Attribut *Abflugdatum* zunächst bestehen bleibt und in einem späteren Schritt entfernt wird, da dieses Attribut noch für weitere Berechnungen benötigt wird."
   ]
  },
  {
   "cell_type": "code",
   "execution_count": 5,
   "id": "8fe52921",
   "metadata": {
    "scrolled": false
   },
   "outputs": [
    {
     "data": {
      "text/html": [
       "<div>\n",
       "<style scoped>\n",
       "    .dataframe tbody tr th:only-of-type {\n",
       "        vertical-align: middle;\n",
       "    }\n",
       "\n",
       "    .dataframe tbody tr th {\n",
       "        vertical-align: top;\n",
       "    }\n",
       "\n",
       "    .dataframe thead th {\n",
       "        text-align: right;\n",
       "    }\n",
       "</style>\n",
       "<table border=\"1\" class=\"dataframe\">\n",
       "  <thead>\n",
       "    <tr style=\"text-align: right;\">\n",
       "      <th></th>\n",
       "      <th>Flugnummer</th>\n",
       "      <th>Abflugdatum</th>\n",
       "      <th>Airline</th>\n",
       "      <th>Zielflughafen</th>\n",
       "      <th>Wochentag des Abflugs</th>\n",
       "      <th>Abflugzeit</th>\n",
       "      <th>Tage bis Abflug</th>\n",
       "      <th>Preis</th>\n",
       "    </tr>\n",
       "  </thead>\n",
       "  <tbody>\n",
       "    <tr>\n",
       "      <th>0</th>\n",
       "      <td>EW 7460</td>\n",
       "      <td>2023-02-26</td>\n",
       "      <td>Eurowings</td>\n",
       "      <td>LHR</td>\n",
       "      <td>Sonntag</td>\n",
       "      <td>nachmittags</td>\n",
       "      <td>109</td>\n",
       "      <td>98</td>\n",
       "    </tr>\n",
       "    <tr>\n",
       "      <th>1</th>\n",
       "      <td>EW 7460</td>\n",
       "      <td>2023-02-26</td>\n",
       "      <td>Eurowings</td>\n",
       "      <td>LHR</td>\n",
       "      <td>Sonntag</td>\n",
       "      <td>nachmittags</td>\n",
       "      <td>108</td>\n",
       "      <td>98</td>\n",
       "    </tr>\n",
       "    <tr>\n",
       "      <th>2</th>\n",
       "      <td>EW 7460</td>\n",
       "      <td>2023-02-26</td>\n",
       "      <td>Eurowings</td>\n",
       "      <td>LHR</td>\n",
       "      <td>Sonntag</td>\n",
       "      <td>nachmittags</td>\n",
       "      <td>107</td>\n",
       "      <td>98</td>\n",
       "    </tr>\n",
       "    <tr>\n",
       "      <th>3</th>\n",
       "      <td>EW 7460</td>\n",
       "      <td>2023-02-26</td>\n",
       "      <td>Eurowings</td>\n",
       "      <td>LHR</td>\n",
       "      <td>Sonntag</td>\n",
       "      <td>nachmittags</td>\n",
       "      <td>106</td>\n",
       "      <td>98</td>\n",
       "    </tr>\n",
       "    <tr>\n",
       "      <th>4</th>\n",
       "      <td>EW 7460</td>\n",
       "      <td>2023-02-26</td>\n",
       "      <td>Eurowings</td>\n",
       "      <td>LHR</td>\n",
       "      <td>Sonntag</td>\n",
       "      <td>nachmittags</td>\n",
       "      <td>105</td>\n",
       "      <td>98</td>\n",
       "    </tr>\n",
       "    <tr>\n",
       "      <th>...</th>\n",
       "      <td>...</td>\n",
       "      <td>...</td>\n",
       "      <td>...</td>\n",
       "      <td>...</td>\n",
       "      <td>...</td>\n",
       "      <td>...</td>\n",
       "      <td>...</td>\n",
       "      <td>...</td>\n",
       "    </tr>\n",
       "    <tr>\n",
       "      <th>47226</th>\n",
       "      <td>BA 975</td>\n",
       "      <td>2023-03-25</td>\n",
       "      <td>British Airways</td>\n",
       "      <td>LHR</td>\n",
       "      <td>Samstag</td>\n",
       "      <td>nachmittags</td>\n",
       "      <td>3</td>\n",
       "      <td>550</td>\n",
       "    </tr>\n",
       "    <tr>\n",
       "      <th>47227</th>\n",
       "      <td>BA 975</td>\n",
       "      <td>2023-03-25</td>\n",
       "      <td>British Airways</td>\n",
       "      <td>LHR</td>\n",
       "      <td>Samstag</td>\n",
       "      <td>nachmittags</td>\n",
       "      <td>2</td>\n",
       "      <td>550</td>\n",
       "    </tr>\n",
       "    <tr>\n",
       "      <th>47228</th>\n",
       "      <td>EW 7464</td>\n",
       "      <td>2023-03-25</td>\n",
       "      <td>Eurowings</td>\n",
       "      <td>LHR</td>\n",
       "      <td>Samstag</td>\n",
       "      <td>frueh_morgens</td>\n",
       "      <td>1</td>\n",
       "      <td>370</td>\n",
       "    </tr>\n",
       "    <tr>\n",
       "      <th>47229</th>\n",
       "      <td>BA 975</td>\n",
       "      <td>2023-03-25</td>\n",
       "      <td>British Airways</td>\n",
       "      <td>LHR</td>\n",
       "      <td>Samstag</td>\n",
       "      <td>nachmittags</td>\n",
       "      <td>1</td>\n",
       "      <td>340</td>\n",
       "    </tr>\n",
       "    <tr>\n",
       "      <th>47230</th>\n",
       "      <td>BA 965</td>\n",
       "      <td>2023-03-25</td>\n",
       "      <td>British Airways</td>\n",
       "      <td>LHR</td>\n",
       "      <td>Samstag</td>\n",
       "      <td>morgens</td>\n",
       "      <td>1</td>\n",
       "      <td>927</td>\n",
       "    </tr>\n",
       "  </tbody>\n",
       "</table>\n",
       "<p>47187 rows × 8 columns</p>\n",
       "</div>"
      ],
      "text/plain": [
       "      Flugnummer Abflugdatum          Airline Zielflughafen  \\\n",
       "0        EW 7460  2023-02-26        Eurowings           LHR   \n",
       "1        EW 7460  2023-02-26        Eurowings           LHR   \n",
       "2        EW 7460  2023-02-26        Eurowings           LHR   \n",
       "3        EW 7460  2023-02-26        Eurowings           LHR   \n",
       "4        EW 7460  2023-02-26        Eurowings           LHR   \n",
       "...          ...         ...              ...           ...   \n",
       "47226     BA 975  2023-03-25  British Airways           LHR   \n",
       "47227     BA 975  2023-03-25  British Airways           LHR   \n",
       "47228    EW 7464  2023-03-25        Eurowings           LHR   \n",
       "47229     BA 975  2023-03-25  British Airways           LHR   \n",
       "47230     BA 965  2023-03-25  British Airways           LHR   \n",
       "\n",
       "      Wochentag des Abflugs     Abflugzeit  Tage bis Abflug  Preis  \n",
       "0                   Sonntag    nachmittags              109     98  \n",
       "1                   Sonntag    nachmittags              108     98  \n",
       "2                   Sonntag    nachmittags              107     98  \n",
       "3                   Sonntag    nachmittags              106     98  \n",
       "4                   Sonntag    nachmittags              105     98  \n",
       "...                     ...            ...              ...    ...  \n",
       "47226               Samstag    nachmittags                3    550  \n",
       "47227               Samstag    nachmittags                2    550  \n",
       "47228               Samstag  frueh_morgens                1    370  \n",
       "47229               Samstag    nachmittags                1    340  \n",
       "47230               Samstag        morgens                1    927  \n",
       "\n",
       "[47187 rows x 8 columns]"
      ]
     },
     "execution_count": 5,
     "metadata": {},
     "output_type": "execute_result"
    }
   ],
   "source": [
    "#Es werden alle NaN-Werte entfernt und der Preis als int-Wert gespeichert\n",
    "df = df.dropna()\n",
    "df[\"Preis\"] = df[\"Preis\"].astype(int)\n",
    "\n",
    "#Spalten entfernen\n",
    "df = df.drop([\"Buchungsdatum\", \"Abflughafen\", \"Ankunftszeit\"], axis=1)\n",
    "\n",
    "#Sortierung der Attribute in anderer Reihenfolge\n",
    "df = pd.DataFrame.reindex(df,columns = [\"Flugnummer\",\"Abflugdatum\", \"Airline\", \"Zielflughafen\", \n",
    "                                        \"Wochentag des Abflugs\", \"Abflugzeit\", \"Tage bis Abflug\", \"Preis\"])\n",
    "df"
   ]
  },
  {
   "cell_type": "markdown",
   "id": "1215634c",
   "metadata": {},
   "source": [
    "Nachdem alle NaN-Werte entfernt wurden, sollen nun Ausreißer gefunden und bearbeitet werden, da es sich hierbei um besonders hohe Preise handelt, die in der Regel nicht auftreten und daher nich repräsentativ sind. Es kann ausgeschlossen werden, dass es sich hierbei um einen fehlerhaften Wert handelt, da die Daten selbst beschafft worden und demnach korrekt sind. Die Werte werden zudem nicht mit dem Median ersetzt, da dies die Daten verfälschen würde und einen deutlich niedrigeren Preis zu diesem Zeitpunkt vortäuschen würde. Eine komplette Entfernung dieser Werte ist ebenfalls sinnlos, da die Preise wenige Tage vor Abflug deutlich ansteigen und eine Entfernung dieses Verhalten nicht widerspiegeln würde. \n",
    "\n",
    "Aus diesem Grund sollen die Ausreißer abgeschwächt werden, um den Durchschnitt nicht in die Höhe zu treiben. Für Ausreißer wird daher das Maximum der verbleibenden Werte verwendet und der alte Wert ersetzt.\n",
    "\n",
    "Die Ausreißer werden je Airline betrachtet. Hierfür werden zwei Plots je Airline erzeugt. Während der obere Plot die Preise auf der x-Achse darstellt, werden auf der y-Achse die Häufigkeiten der jeweiligen Preise abgetragen. Unten wird anschließend ein Boxplot dargestellt, der lediglich die Preise auf der x-Achse darstellt. Ersichtlich werden hier vor allem das untere Quartil, der Median, das obere Quartil und das Minimum und Maximum. Zudem werden in den Kreisen die gesuchten Ausreißer dargestellt."
   ]
  },
  {
   "cell_type": "code",
   "execution_count": 6,
   "id": "7df6a5f3",
   "metadata": {},
   "outputs": [],
   "source": [
    "#Funktion definieren, um die Ausreißer je Airline zu plotten\n",
    "#Eingabedaten: Gesamter Datensatz und Name der Airline\n",
    "def plot_ausreisser(data, airline): \n",
    "    \n",
    "    #Datensatz sortieren, sodass nur Preise der jeweiligen Airline vorhanden sind \n",
    "    #(absteigend sortiert nach Preis)\n",
    "    data_airline = data[data[\"Airline\"] == airline][\"Preis\"].value_counts().reset_index()\n",
    "    data_airline.rename(columns= {\"index\":\"Preis\", \"Preis\":\"Häufigkeit\"}, inplace=True)\n",
    "    data_airline = data_airline.sort_values(\"Preis\", ascending=False)\n",
    "    print(airline)\n",
    "    print()\n",
    "    print(data_airline.head(11))    #Gebe die 11 teuersten Preise aus (bester Erfahrungswert nach Ausprobieren)\n",
    "    \n",
    "    #x- und y-Werte bestimmen\n",
    "    x_werte = data_airline[\"Preis\"]\n",
    "    y_werte = data_airline[\"Häufigkeit\"]\n",
    "    \n",
    "    #plotten\n",
    "    fig, axes = plt.subplots (2,1, figsize=(10,6)) \n",
    "    axes[0].bar(x_werte, y_werte, width=1.5)\n",
    "    axes[1].boxplot(x_werte, vert=False)\n",
    "    \n",
    "    axes[1].set_xlabel(\"Preis in Euro\", size=10)\n",
    "    axes[0].set_ylabel(\"Häufigkeit\", size=10)  "
   ]
  },
  {
   "cell_type": "code",
   "execution_count": 7,
   "id": "2b2e6dac",
   "metadata": {
    "scrolled": false
   },
   "outputs": [
    {
     "name": "stdout",
     "output_type": "stream",
     "text": [
      "British Airways\n",
      "\n",
      "    Preis  Häufigkeit\n",
      "73    927          11\n",
      "46    653          47\n",
      "39    550          67\n",
      "43    538          56\n",
      "57    526          28\n",
      "76    514          10\n",
      "66    501          21\n",
      "59    490          27\n",
      "45    478          51\n",
      "33    466          93\n",
      "80    454           7\n"
     ]
    },
    {
     "data": {
      "image/png": "[encoded data removed]",
      "text/plain": [
       "<Figure size 720x432 with 2 Axes>"
      ]
     },
     "metadata": {
      "needs_background": "light"
     },
     "output_type": "display_data"
    }
   ],
   "source": [
    "#Plotte Ausreißer für British Airways\n",
    "plot_ausreisser(df, \"British Airways\")"
   ]
  },
  {
   "cell_type": "markdown",
   "id": "3c93aed9",
   "metadata": {},
   "source": [
    "Es ist ersichtlich, dass British Airways 9 Preise hat, die als Ausreißer eingestuft werden können. Alle Ausreißer werden mit dem Maximum belegt, das entsteht, wenn die Ausreißer entfernt würden. In diesem Fall also mit 466 Euro. Die Datenpunkte, die zuvor als Ausreißer erkannt wurden, sind nun weiterhin vorhanden und immer noch als höchster Preis gekennzeichnet, dieser wurde aber abgeschwächt. Auf diese Weise wurden die Ausreißer eliminiert."
   ]
  },
  {
   "cell_type": "code",
   "execution_count": 8,
   "id": "d5a0dbe9",
   "metadata": {},
   "outputs": [],
   "source": [
    "#Funktion, um Ausreißer im Datensatz zu ersetzen, übergeben wird der Datensatz,\n",
    "#die Airline und das Maximum, das entsteht, wenn die Ausreißer entfernt werden würden.\n",
    "#Zurückgegeben wird der bereinigte Datensatz, in dem Ausreißer der jeweiligen Airline behandelt wurden\n",
    "\n",
    "def ersetze(data, airline, preis):\n",
    "    data = data.copy()\n",
    "    bedingung = (data[\"Airline\"] == airline) & (data[\"Preis\"] > preis)\n",
    "    data.loc[bedingung, \"Preis\"] = preis\n",
    "    return data"
   ]
  },
  {
   "cell_type": "code",
   "execution_count": 9,
   "id": "862d333f",
   "metadata": {},
   "outputs": [],
   "source": [
    "#Ersetze die Ausreißer von British Airways\n",
    "df_bereinigt = ersetze(df, \"British Airways\", 466)"
   ]
  },
  {
   "cell_type": "code",
   "execution_count": 10,
   "id": "1f13ce53",
   "metadata": {
    "scrolled": false
   },
   "outputs": [
    {
     "name": "stdout",
     "output_type": "stream",
     "text": [
      "Eurowings\n",
      "\n",
      "    Preis  Häufigkeit\n",
      "68    420           1\n",
      "54    370           4\n",
      "56    369           3\n",
      "61    320           2\n",
      "40    319          16\n",
      "44    270          10\n",
      "31    269          33\n",
      "74    241           1\n",
      "62    236           2\n",
      "42    230          14\n",
      "32    229          32\n"
     ]
    },
    {
     "data": {
      "image/png": "[encoded data removed]",
      "text/plain": [
       "<Figure size 720x432 with 2 Axes>"
      ]
     },
     "metadata": {
      "needs_background": "light"
     },
     "output_type": "display_data"
    }
   ],
   "source": [
    "#Plotte Ausreißer für Eurowings\n",
    "plot_ausreisser(df, \"Eurowings\")"
   ]
  },
  {
   "cell_type": "code",
   "execution_count": 11,
   "id": "46b2a2a7",
   "metadata": {},
   "outputs": [],
   "source": [
    "#Ersetze Ausreißer von Eurowings\n",
    "df_bereinigt = ersetze(df_bereinigt, \"Eurowings\", 320)"
   ]
  },
  {
   "cell_type": "code",
   "execution_count": 12,
   "id": "f8efa009",
   "metadata": {
    "scrolled": false
   },
   "outputs": [
    {
     "name": "stdout",
     "output_type": "stream",
     "text": [
      "easyJet\n",
      "\n",
      "    Preis  Häufigkeit\n",
      "72    174           4\n",
      "71    169           5\n",
      "90    166           2\n",
      "81    165           2\n",
      "59    163          10\n",
      "99    162           1\n",
      "77    158           3\n",
      "83    157           2\n",
      "82    156           2\n",
      "76    155           3\n",
      "60    151           9\n"
     ]
    },
    {
     "data": {
      "image/png": "[encoded data removed]",
      "text/plain": [
       "<Figure size 720x432 with 2 Axes>"
      ]
     },
     "metadata": {
      "needs_background": "light"
     },
     "output_type": "display_data"
    }
   ],
   "source": [
    "#Plotte Ausreißer für easyJet\n",
    "plot_ausreisser(df, \"easyJet\")"
   ]
  },
  {
   "cell_type": "markdown",
   "id": "cd772a03",
   "metadata": {},
   "source": [
    "Bei easyJet sind keine Ausreißer vorhanden, die ersetzt werden müssen."
   ]
  },
  {
   "cell_type": "code",
   "execution_count": 13,
   "id": "5089ada8",
   "metadata": {
    "scrolled": false
   },
   "outputs": [
    {
     "name": "stdout",
     "output_type": "stream",
     "text": [
      "Ryanair\n",
      "\n",
      "     Preis  Häufigkeit\n",
      "106    439           1\n",
      "107    428           1\n",
      "108    405           1\n",
      "68     396           4\n",
      "78     385           3\n",
      "27     375          21\n",
      "123    353           1\n",
      "112    332           1\n",
      "99     325           2\n",
      "30     318          17\n",
      "116    289           1\n"
     ]
    },
    {
     "data": {
      "image/png": "[encoded data removed]",
      "text/plain": [
       "<Figure size 720x432 with 2 Axes>"
      ]
     },
     "metadata": {
      "needs_background": "light"
     },
     "output_type": "display_data"
    }
   ],
   "source": [
    "#Plotte Ausreißer für Ryanair\n",
    "plot_ausreisser(df, \"Ryanair\")"
   ]
  },
  {
   "cell_type": "code",
   "execution_count": 14,
   "id": "711f44ba",
   "metadata": {},
   "outputs": [],
   "source": [
    "#Ersetze Ausreißer von Ryanair\n",
    "df_bereinigt = ersetze(df_bereinigt, \"Ryanair\", 289)"
   ]
  },
  {
   "cell_type": "code",
   "execution_count": 15,
   "id": "a86924e5",
   "metadata": {},
   "outputs": [],
   "source": [
    "#Der bereinigte Datensatz für das weitere Vorgehen ist nun in df_bereinigt gespeichert"
   ]
  },
  {
   "cell_type": "markdown",
   "id": "ec334bf6",
   "metadata": {},
   "source": [
    "Für das Klassifikationsproblem soll nun ein eigener Datensatz mit einem zusätzlichen Label erzeugt werden. Das Label enthält die Empfehlung, einen Flug zu einem bestimmten Preis zu buchen oder nicht zu buchen. Es handelt sich um ein binäres Attribut, das durch die Zahlen 1 (buchen) und 0 (nicht buchen) repräsentiert wird.\n",
    "\n",
    "Ein Flug sollte zu einem Preis $y$ genau dann gebucht werden, wenn dieser Preis bereits günstig ist. Ein günstiger Preis sei wie folgt definiert: \n",
    "\n",
    ">Sei $P$ die Menge aller noch kommenden Preise für diesen Flug, inklusive $y$. Gesucht wird eine Teilmenge $G$ mit $|G| = ⌈|P| * 0.15⌉$, die die niedrigsten Preise der Menge $P$ enthält. Der Preis $y$ ist günstig, wenn $y \\in G$ und $y$ somit zu den 15% der niedrigsten verbleibenden Flugpreisen gehört.\n",
    "\n",
    "Ist $y$ nach o.g. Definition nicht günstig, werden noch ausreichend günstige Preise kommen, weshalb die Empfehlung lautet, den Flug nicht zum Preis $y$ zu buchen. \n",
    "\n",
    "Anmerkung: Die 15%-Grenze bezieht sich nicht auf den Preis selbst sondern auf die Anzahl der zu betrachtenden Preise! Die Wahl der 15%-Grenze basiert auf der (rein subjektiven) Annahme, dass ein Flug gebucht werden sollte, wenn er zu den 15% der günstigsten verbleibenden Flüge gehört. Dadurch können geringfügige Preisunterschiede vernachlässigt werden. Es ist zudem wichtig sicherzustellen, dass nach einem nicht gebuchten Flug noch eine ausreichende Anzahl an günstigen Preisen folgt. Folgt beispielsweise in den kommenden 100 Tagen nur ein einziger günstigerer Flug, so ist es unwahrscheinlich, dass dies verallgemeinerbar ist und auf alle Flüge zutreffend ist. In diesem Fall sollte der aktuelle Preis gebucht werden.\n",
    "\n",
    "Um dieses Label erzeugen zu können, wird nun wie folgt vorgegangen:\n",
    "\n",
    "Eingabedaten: Datensatz, Flugnummer, Datum, Anzahl Tage bis Abflug (x), Preis (y)\n",
    "1. Betrachte alle für diesen Flug verbleibenden Preise bis zum Abflug\n",
    "2. Bestimme die günstigsten Flüge gem. o.g. Definition (Beispiel: Bei 100 verbleibenden Tagen werden die 15 günstigsten Preise gesucht, bei 10 verbleibenden Tagen lediglich die zwei günstigsten Preise.)\n",
    "3. Wenn der Preis y unter den 15% der günstigsten Preise liegt, sollte die Buchung erfolgen. Andernfalls sollte keine Buchung erfolgen, da noch weitere günstige Preise folgen.\n"
   ]
  },
  {
   "cell_type": "code",
   "execution_count": 16,
   "id": "ebd84cb9",
   "metadata": {},
   "outputs": [],
   "source": [
    "#Funktion definieren, um für jeden einzelnen Flug die Labels zu bestimmen (siehe Beschreibung zuvor)\n",
    "#Eingabe Datensatz, Flugnummer, Abflugdatum, x: Anzahl Tage bis Abflug, y: Preis in Euro\n",
    "\n",
    "def bestimme_label(data, flugnummer, abflugdatum, x, y):\n",
    "    #Besorge den entsprechenden Flug im Datensatz (Kombination aus Flugnummer und Datum)\n",
    "    #Nur Flüge, die näher am Abflug dran sind, sollen betrachtet werden\n",
    "    data_berechnung = data.copy()\n",
    "    data_berechnung = data_berechnung[(data_berechnung[\"Flugnummer\"] == flugnummer) & \n",
    "                    (data_berechnung[\"Abflugdatum\"] == abflugdatum) &\n",
    "                   (data_berechnung[\"Tage bis Abflug\"] <= x)]\n",
    "    \n",
    "    #Sortiere die Preise aufsteigend, um die günstigsten Preise oben zu haben\n",
    "    data_berechnung = data_berechnung.sort_values(\"Preis\", ascending=True)\n",
    "    \n",
    "    #Bestimme die Anzahl (15% der verbleibenden Preise)\n",
    "    anzahl = math.ceil(len(data_berechnung)*0.15)  #immer aufrunden!\n",
    "    \n",
    "    guenstige_preise = data_berechnung.head(anzahl).reset_index()\n",
    "    \n",
    "    #Wenn y einer der günstigsten Preise ist, gebe 1 zurück, sonst 0\n",
    "    if(guenstige_preise.isin({\"Preis\": [y]})[\"Preis\"].any()):\n",
    "        return 1\n",
    "    else:\n",
    "        return 0"
   ]
  },
  {
   "cell_type": "code",
   "execution_count": 17,
   "id": "3f4c988a",
   "metadata": {},
   "outputs": [],
   "source": [
    "#Erzeuge Kopie des letzten Datensatzes und füge das Attribut \"Buchen\" hinzu (zunächst ohne Inhalte)\n",
    "df_klassifikation = df_bereinigt.copy()\n",
    "df_klassifikation[\"Buchen\"] = \"\""
   ]
  },
  {
   "cell_type": "code",
   "execution_count": 18,
   "id": "6fd45d9a",
   "metadata": {
    "scrolled": false
   },
   "outputs": [
    {
     "data": {
      "text/html": [
       "<div>\n",
       "<style scoped>\n",
       "    .dataframe tbody tr th:only-of-type {\n",
       "        vertical-align: middle;\n",
       "    }\n",
       "\n",
       "    .dataframe tbody tr th {\n",
       "        vertical-align: top;\n",
       "    }\n",
       "\n",
       "    .dataframe thead th {\n",
       "        text-align: right;\n",
       "    }\n",
       "</style>\n",
       "<table border=\"1\" class=\"dataframe\">\n",
       "  <thead>\n",
       "    <tr style=\"text-align: right;\">\n",
       "      <th></th>\n",
       "      <th>Flugnummer</th>\n",
       "      <th>Abflugdatum</th>\n",
       "      <th>Airline</th>\n",
       "      <th>Zielflughafen</th>\n",
       "      <th>Wochentag des Abflugs</th>\n",
       "      <th>Abflugzeit</th>\n",
       "      <th>Tage bis Abflug</th>\n",
       "      <th>Preis</th>\n",
       "      <th>Buchen</th>\n",
       "    </tr>\n",
       "  </thead>\n",
       "  <tbody>\n",
       "    <tr>\n",
       "      <th>0</th>\n",
       "      <td>EW 7460</td>\n",
       "      <td>2023-02-26</td>\n",
       "      <td>Eurowings</td>\n",
       "      <td>LHR</td>\n",
       "      <td>Sonntag</td>\n",
       "      <td>nachmittags</td>\n",
       "      <td>109</td>\n",
       "      <td>98</td>\n",
       "      <td>0</td>\n",
       "    </tr>\n",
       "    <tr>\n",
       "      <th>1</th>\n",
       "      <td>EW 7460</td>\n",
       "      <td>2023-02-26</td>\n",
       "      <td>Eurowings</td>\n",
       "      <td>LHR</td>\n",
       "      <td>Sonntag</td>\n",
       "      <td>nachmittags</td>\n",
       "      <td>108</td>\n",
       "      <td>98</td>\n",
       "      <td>0</td>\n",
       "    </tr>\n",
       "    <tr>\n",
       "      <th>2</th>\n",
       "      <td>EW 7460</td>\n",
       "      <td>2023-02-26</td>\n",
       "      <td>Eurowings</td>\n",
       "      <td>LHR</td>\n",
       "      <td>Sonntag</td>\n",
       "      <td>nachmittags</td>\n",
       "      <td>107</td>\n",
       "      <td>98</td>\n",
       "      <td>0</td>\n",
       "    </tr>\n",
       "    <tr>\n",
       "      <th>3</th>\n",
       "      <td>EW 7460</td>\n",
       "      <td>2023-02-26</td>\n",
       "      <td>Eurowings</td>\n",
       "      <td>LHR</td>\n",
       "      <td>Sonntag</td>\n",
       "      <td>nachmittags</td>\n",
       "      <td>106</td>\n",
       "      <td>98</td>\n",
       "      <td>0</td>\n",
       "    </tr>\n",
       "    <tr>\n",
       "      <th>4</th>\n",
       "      <td>EW 7460</td>\n",
       "      <td>2023-02-26</td>\n",
       "      <td>Eurowings</td>\n",
       "      <td>LHR</td>\n",
       "      <td>Sonntag</td>\n",
       "      <td>nachmittags</td>\n",
       "      <td>105</td>\n",
       "      <td>98</td>\n",
       "      <td>0</td>\n",
       "    </tr>\n",
       "    <tr>\n",
       "      <th>5</th>\n",
       "      <td>EW 7460</td>\n",
       "      <td>2023-02-26</td>\n",
       "      <td>Eurowings</td>\n",
       "      <td>LHR</td>\n",
       "      <td>Sonntag</td>\n",
       "      <td>nachmittags</td>\n",
       "      <td>104</td>\n",
       "      <td>88</td>\n",
       "      <td>1</td>\n",
       "    </tr>\n",
       "  </tbody>\n",
       "</table>\n",
       "</div>"
      ],
      "text/plain": [
       "  Flugnummer Abflugdatum    Airline Zielflughafen Wochentag des Abflugs  \\\n",
       "0    EW 7460  2023-02-26  Eurowings           LHR               Sonntag   \n",
       "1    EW 7460  2023-02-26  Eurowings           LHR               Sonntag   \n",
       "2    EW 7460  2023-02-26  Eurowings           LHR               Sonntag   \n",
       "3    EW 7460  2023-02-26  Eurowings           LHR               Sonntag   \n",
       "4    EW 7460  2023-02-26  Eurowings           LHR               Sonntag   \n",
       "5    EW 7460  2023-02-26  Eurowings           LHR               Sonntag   \n",
       "\n",
       "    Abflugzeit  Tage bis Abflug  Preis Buchen  \n",
       "0  nachmittags              109     98      0  \n",
       "1  nachmittags              108     98      0  \n",
       "2  nachmittags              107     98      0  \n",
       "3  nachmittags              106     98      0  \n",
       "4  nachmittags              105     98      0  \n",
       "5  nachmittags              104     88      1  "
      ]
     },
     "execution_count": 18,
     "metadata": {},
     "output_type": "execute_result"
    }
   ],
   "source": [
    "#Gehe jeden Eintrag des Datensatzes durch und berechne für jeden\n",
    "#Eintrag, ob dieser Flug gebucht werden soll (1) oder nicht gebucht werden soll (0)\n",
    "for i in df_klassifikation.index:\n",
    "    einzusetzender_wert = bestimme_label(df_klassifikation, df_klassifikation.loc[i, \"Flugnummer\"],\n",
    "                                         df_klassifikation.loc[i, \"Abflugdatum\"], \n",
    "                                         df_klassifikation.loc[i, \"Tage bis Abflug\"], \n",
    "                                         df_klassifikation.loc[i, \"Preis\"])\n",
    "    df_klassifikation.loc[i, \"Buchen\"] = einzusetzender_wert\n",
    "    \n",
    "df_klassifikation.head(6)"
   ]
  },
  {
   "cell_type": "code",
   "execution_count": 19,
   "id": "ccd1d9f8",
   "metadata": {},
   "outputs": [],
   "source": [
    "#Umwandlung der Labels in int\n",
    "df_klassifikation[\"Buchen\"] = df_klassifikation[\"Buchen\"].astype(\"int\")"
   ]
  },
  {
   "cell_type": "markdown",
   "id": "8272ee95",
   "metadata": {},
   "source": [
    "Nun kann die zuvor definierte Funktion auf den Datensatz angewendet werden. Zudem muss das Attribut *Abflugdatum* wieder aus beiden Datensätzen entfernt werden, da dieses lediglich für die vorherigen Berechnungen nötig war."
   ]
  },
  {
   "cell_type": "code",
   "execution_count": 20,
   "id": "c2fa9e3f",
   "metadata": {},
   "outputs": [],
   "source": [
    "#Kopiere die Abflugdaten für spätere Auswertungen\n",
    "abflugdaten = df_bereinigt[[\"Abflugdatum\"]].copy()\n",
    "\n",
    "#Entferne das Attribut Abflugdatum aus den beiden Datensätzen\n",
    "df_bereinigt = df_bereinigt.drop([\"Abflugdatum\"], axis=1)\n",
    "df_klassifikation = df_klassifikation.drop([\"Abflugdatum\"], axis=1)"
   ]
  },
  {
   "cell_type": "code",
   "execution_count": 21,
   "id": "731b1656",
   "metadata": {},
   "outputs": [
    {
     "data": {
      "text/html": [
       "<div>\n",
       "<style scoped>\n",
       "    .dataframe tbody tr th:only-of-type {\n",
       "        vertical-align: middle;\n",
       "    }\n",
       "\n",
       "    .dataframe tbody tr th {\n",
       "        vertical-align: top;\n",
       "    }\n",
       "\n",
       "    .dataframe thead th {\n",
       "        text-align: right;\n",
       "    }\n",
       "</style>\n",
       "<table border=\"1\" class=\"dataframe\">\n",
       "  <thead>\n",
       "    <tr style=\"text-align: right;\">\n",
       "      <th></th>\n",
       "      <th>Abflugdatum</th>\n",
       "    </tr>\n",
       "  </thead>\n",
       "  <tbody>\n",
       "    <tr>\n",
       "      <th>0</th>\n",
       "      <td>2023-02-26</td>\n",
       "    </tr>\n",
       "    <tr>\n",
       "      <th>1</th>\n",
       "      <td>2023-02-26</td>\n",
       "    </tr>\n",
       "    <tr>\n",
       "      <th>2</th>\n",
       "      <td>2023-02-26</td>\n",
       "    </tr>\n",
       "    <tr>\n",
       "      <th>3</th>\n",
       "      <td>2023-02-26</td>\n",
       "    </tr>\n",
       "    <tr>\n",
       "      <th>4</th>\n",
       "      <td>2023-02-26</td>\n",
       "    </tr>\n",
       "    <tr>\n",
       "      <th>...</th>\n",
       "      <td>...</td>\n",
       "    </tr>\n",
       "    <tr>\n",
       "      <th>47226</th>\n",
       "      <td>2023-03-25</td>\n",
       "    </tr>\n",
       "    <tr>\n",
       "      <th>47227</th>\n",
       "      <td>2023-03-25</td>\n",
       "    </tr>\n",
       "    <tr>\n",
       "      <th>47228</th>\n",
       "      <td>2023-03-25</td>\n",
       "    </tr>\n",
       "    <tr>\n",
       "      <th>47229</th>\n",
       "      <td>2023-03-25</td>\n",
       "    </tr>\n",
       "    <tr>\n",
       "      <th>47230</th>\n",
       "      <td>2023-03-25</td>\n",
       "    </tr>\n",
       "  </tbody>\n",
       "</table>\n",
       "<p>47187 rows × 1 columns</p>\n",
       "</div>"
      ],
      "text/plain": [
       "      Abflugdatum\n",
       "0      2023-02-26\n",
       "1      2023-02-26\n",
       "2      2023-02-26\n",
       "3      2023-02-26\n",
       "4      2023-02-26\n",
       "...           ...\n",
       "47226  2023-03-25\n",
       "47227  2023-03-25\n",
       "47228  2023-03-25\n",
       "47229  2023-03-25\n",
       "47230  2023-03-25\n",
       "\n",
       "[47187 rows x 1 columns]"
      ]
     },
     "execution_count": 21,
     "metadata": {},
     "output_type": "execute_result"
    }
   ],
   "source": [
    "abflugdaten"
   ]
  },
  {
   "cell_type": "code",
   "execution_count": 19,
   "id": "bca8cc98",
   "metadata": {},
   "outputs": [],
   "source": [
    "#*********** DATENSÄTZE ****************\n",
    "\n",
    "#data: originaler Datensatz (unverändert)\n",
    "\n",
    "#df: NaN-Werte entfernt und irrelevante Attribute entfernt\n",
    "\n",
    "#df_bereinigt: Ausreißer entfernt, ansonsten wie df\n",
    "\n",
    "#df_klassifikation: Label \"Buchen\" hinzugefügt, ansonsten wie df_bereinigt"
   ]
  },
  {
   "cell_type": "code",
   "execution_count": 20,
   "id": "983b8146",
   "metadata": {},
   "outputs": [
    {
     "data": {
      "text/html": [
       "<div>\n",
       "<style scoped>\n",
       "    .dataframe tbody tr th:only-of-type {\n",
       "        vertical-align: middle;\n",
       "    }\n",
       "\n",
       "    .dataframe tbody tr th {\n",
       "        vertical-align: top;\n",
       "    }\n",
       "\n",
       "    .dataframe thead th {\n",
       "        text-align: right;\n",
       "    }\n",
       "</style>\n",
       "<table border=\"1\" class=\"dataframe\">\n",
       "  <thead>\n",
       "    <tr style=\"text-align: right;\">\n",
       "      <th></th>\n",
       "      <th>Flugnummer</th>\n",
       "      <th>Airline</th>\n",
       "      <th>Zielflughafen</th>\n",
       "      <th>Wochentag des Abflugs</th>\n",
       "      <th>Abflugzeit</th>\n",
       "      <th>Tage bis Abflug</th>\n",
       "      <th>Preis</th>\n",
       "    </tr>\n",
       "  </thead>\n",
       "  <tbody>\n",
       "    <tr>\n",
       "      <th>0</th>\n",
       "      <td>EW 7460</td>\n",
       "      <td>Eurowings</td>\n",
       "      <td>LHR</td>\n",
       "      <td>Sonntag</td>\n",
       "      <td>nachmittags</td>\n",
       "      <td>109</td>\n",
       "      <td>98</td>\n",
       "    </tr>\n",
       "    <tr>\n",
       "      <th>1</th>\n",
       "      <td>EW 7460</td>\n",
       "      <td>Eurowings</td>\n",
       "      <td>LHR</td>\n",
       "      <td>Sonntag</td>\n",
       "      <td>nachmittags</td>\n",
       "      <td>108</td>\n",
       "      <td>98</td>\n",
       "    </tr>\n",
       "    <tr>\n",
       "      <th>2</th>\n",
       "      <td>EW 7460</td>\n",
       "      <td>Eurowings</td>\n",
       "      <td>LHR</td>\n",
       "      <td>Sonntag</td>\n",
       "      <td>nachmittags</td>\n",
       "      <td>107</td>\n",
       "      <td>98</td>\n",
       "    </tr>\n",
       "    <tr>\n",
       "      <th>3</th>\n",
       "      <td>EW 7460</td>\n",
       "      <td>Eurowings</td>\n",
       "      <td>LHR</td>\n",
       "      <td>Sonntag</td>\n",
       "      <td>nachmittags</td>\n",
       "      <td>106</td>\n",
       "      <td>98</td>\n",
       "    </tr>\n",
       "    <tr>\n",
       "      <th>4</th>\n",
       "      <td>EW 7460</td>\n",
       "      <td>Eurowings</td>\n",
       "      <td>LHR</td>\n",
       "      <td>Sonntag</td>\n",
       "      <td>nachmittags</td>\n",
       "      <td>105</td>\n",
       "      <td>98</td>\n",
       "    </tr>\n",
       "  </tbody>\n",
       "</table>\n",
       "</div>"
      ],
      "text/plain": [
       "  Flugnummer    Airline Zielflughafen Wochentag des Abflugs   Abflugzeit  \\\n",
       "0    EW 7460  Eurowings           LHR               Sonntag  nachmittags   \n",
       "1    EW 7460  Eurowings           LHR               Sonntag  nachmittags   \n",
       "2    EW 7460  Eurowings           LHR               Sonntag  nachmittags   \n",
       "3    EW 7460  Eurowings           LHR               Sonntag  nachmittags   \n",
       "4    EW 7460  Eurowings           LHR               Sonntag  nachmittags   \n",
       "\n",
       "   Tage bis Abflug  Preis  \n",
       "0              109     98  \n",
       "1              108     98  \n",
       "2              107     98  \n",
       "3              106     98  \n",
       "4              105     98  "
      ]
     },
     "execution_count": 20,
     "metadata": {},
     "output_type": "execute_result"
    }
   ],
   "source": [
    "#Vergleich der Datensätze zum Überblick\n",
    "df_bereinigt.head()"
   ]
  },
  {
   "cell_type": "code",
   "execution_count": 21,
   "id": "6103e021",
   "metadata": {},
   "outputs": [
    {
     "data": {
      "text/html": [
       "<div>\n",
       "<style scoped>\n",
       "    .dataframe tbody tr th:only-of-type {\n",
       "        vertical-align: middle;\n",
       "    }\n",
       "\n",
       "    .dataframe tbody tr th {\n",
       "        vertical-align: top;\n",
       "    }\n",
       "\n",
       "    .dataframe thead th {\n",
       "        text-align: right;\n",
       "    }\n",
       "</style>\n",
       "<table border=\"1\" class=\"dataframe\">\n",
       "  <thead>\n",
       "    <tr style=\"text-align: right;\">\n",
       "      <th></th>\n",
       "      <th>Flugnummer</th>\n",
       "      <th>Airline</th>\n",
       "      <th>Zielflughafen</th>\n",
       "      <th>Wochentag des Abflugs</th>\n",
       "      <th>Abflugzeit</th>\n",
       "      <th>Tage bis Abflug</th>\n",
       "      <th>Preis</th>\n",
       "      <th>Buchen</th>\n",
       "    </tr>\n",
       "  </thead>\n",
       "  <tbody>\n",
       "    <tr>\n",
       "      <th>0</th>\n",
       "      <td>EW 7460</td>\n",
       "      <td>Eurowings</td>\n",
       "      <td>LHR</td>\n",
       "      <td>Sonntag</td>\n",
       "      <td>nachmittags</td>\n",
       "      <td>109</td>\n",
       "      <td>98</td>\n",
       "      <td>0</td>\n",
       "    </tr>\n",
       "    <tr>\n",
       "      <th>1</th>\n",
       "      <td>EW 7460</td>\n",
       "      <td>Eurowings</td>\n",
       "      <td>LHR</td>\n",
       "      <td>Sonntag</td>\n",
       "      <td>nachmittags</td>\n",
       "      <td>108</td>\n",
       "      <td>98</td>\n",
       "      <td>0</td>\n",
       "    </tr>\n",
       "    <tr>\n",
       "      <th>2</th>\n",
       "      <td>EW 7460</td>\n",
       "      <td>Eurowings</td>\n",
       "      <td>LHR</td>\n",
       "      <td>Sonntag</td>\n",
       "      <td>nachmittags</td>\n",
       "      <td>107</td>\n",
       "      <td>98</td>\n",
       "      <td>0</td>\n",
       "    </tr>\n",
       "    <tr>\n",
       "      <th>3</th>\n",
       "      <td>EW 7460</td>\n",
       "      <td>Eurowings</td>\n",
       "      <td>LHR</td>\n",
       "      <td>Sonntag</td>\n",
       "      <td>nachmittags</td>\n",
       "      <td>106</td>\n",
       "      <td>98</td>\n",
       "      <td>0</td>\n",
       "    </tr>\n",
       "    <tr>\n",
       "      <th>4</th>\n",
       "      <td>EW 7460</td>\n",
       "      <td>Eurowings</td>\n",
       "      <td>LHR</td>\n",
       "      <td>Sonntag</td>\n",
       "      <td>nachmittags</td>\n",
       "      <td>105</td>\n",
       "      <td>98</td>\n",
       "      <td>0</td>\n",
       "    </tr>\n",
       "  </tbody>\n",
       "</table>\n",
       "</div>"
      ],
      "text/plain": [
       "  Flugnummer    Airline Zielflughafen Wochentag des Abflugs   Abflugzeit  \\\n",
       "0    EW 7460  Eurowings           LHR               Sonntag  nachmittags   \n",
       "1    EW 7460  Eurowings           LHR               Sonntag  nachmittags   \n",
       "2    EW 7460  Eurowings           LHR               Sonntag  nachmittags   \n",
       "3    EW 7460  Eurowings           LHR               Sonntag  nachmittags   \n",
       "4    EW 7460  Eurowings           LHR               Sonntag  nachmittags   \n",
       "\n",
       "   Tage bis Abflug  Preis  Buchen  \n",
       "0              109     98       0  \n",
       "1              108     98       0  \n",
       "2              107     98       0  \n",
       "3              106     98       0  \n",
       "4              105     98       0  "
      ]
     },
     "execution_count": 21,
     "metadata": {},
     "output_type": "execute_result"
    }
   ],
   "source": [
    "df_klassifikation.head()"
   ]
  },
  {
   "cell_type": "markdown",
   "id": "d10ba7ca",
   "metadata": {},
   "source": [
    "## 3. Datenaufbereitung <a class=\"anchor\" id=\"datenaufbereitung\"></a>\n",
    "\n",
    "Grundsätzlich funktionieren Machine-Learning-Algorithmen besser auf numerischen Daten. Daher ist es sinnvoll, die Daten in numerische Werte umzuwandeln. Es handelt sich um die Attribute: *Flugnummer, Airline, Zielflughafen, Wochentag des Abflugs und Abflugzeit*. Eine Transformation kann folgendermaßen geschehen (wobei es noch viele weitere Möglichkeiten gibt):\n",
    "\n",
    "- Die verschiedenen Kategorien werden durch eine Ganzzahl repräsentiert, wie es bereits im ersten Jupyter Notebook erfolgte. Für ML-Algorithmen eignet sich diese Methode allerdings nur, wenn es sich um ordinale Merkmale handelt. Das heißt, zwei benachbarte Werte sind ähnlicher zueinander als zwei weiter entfernte Werte. Es muss eine Reihenfolge geben, in der diese Kategorien sortiert werden können. Dies könnte höchstens auf die Airlines zutreffen, da hier eine Reihenfolge von Lowcost bis hin zu herkömmlicher Airline erzeugt werden könnte. Beispielsweise von günstig nach teuer: Ryanair, easyJet, Eurowings, British Airways. Dieses Empfinden kann aber auch nur subjektiv sein, weshalb auf die zweite Methode zurückgegriffen werden sollte.\n",
    "\n",
    "- One-Hot-Codierung: Für jede Kategorie wird ein neues binäres Merkmal erzeugt. Trifft diese jeweilige Kategorie für einen Datenpunkt zu, wird eine 1 notiert, ansonsten eine 0. Bei den neuen Merkmalen handelt es sich um sogenannte Dummy-Merkmale. Die One-Hot-Codierung soll auf alle genannten kategorischen Attribute angewendet werden.\n",
    "\n",
    "Die Spalte *Preis* im Datensatz df_klassifikation bleibt unverändert. Hier werden die verschiedenen Preise durch Ganzzahlen repräsentiert, was in diesem Fall in Ordnung ist, da tatsächlich eine Rangfolge existiert. \n",
    "\n",
    "Eine Skalierung der Daten erfolgt nicht, weil die kategorischen Attribute bereits nur 0en und 1en enthalten. Lediglich der tatsächliche Preis könnte skaliert werden, allerdings wird dies nicht für nötig gehalten, da es das einzige Attribut ist und eine Skalierung auf das Intervall [0,1] vermutlich keine Auswirkung haben würde. Eine Skalierung wäre z.B. notwendig, wenn mehrere Attribute auf unterschiedlichen Skalen liegen oder die Verteilung der Werte verzerrt ist."
   ]
  },
  {
   "cell_type": "code",
   "execution_count": 22,
   "id": "536483d1",
   "metadata": {},
   "outputs": [],
   "source": [
    "#zwei One-Hot-Encoder für Regressions- und Klassifikations-Datensätze erzeugen \n",
    "#(mit entsprechenden Spaltennamen der kategorischen Attribute)\n",
    "onehot_encoder_reg = ce.OneHotEncoder(cols=[\"Flugnummer\", \"Airline\", \"Zielflughafen\", \n",
    "                                        \"Wochentag des Abflugs\", \"Abflugzeit\"], handle_missing=\"error\",\n",
    "                                 handle_unknown = \"error\")\n",
    "\n",
    "onehot_encoder_klas = ce.OneHotEncoder(cols=[\"Flugnummer\", \"Airline\", \"Zielflughafen\", \n",
    "                                        \"Wochentag des Abflugs\", \"Abflugzeit\"], handle_missing=\"error\",\n",
    "                                 handle_unknown = \"error\")\n",
    "\n",
    "#One-Hot-Encoder auf Datensätze anwenden und speichern\n",
    "df_onehot_reg = onehot_encoder_reg.fit_transform(df_bereinigt)\n",
    "df_onehot_klas = onehot_encoder_klas.fit_transform(df_klassifikation)\n",
    "\n",
    "#Um zum ursprünglichen Datensatz zu kommen: df_ursp = onehot_encoder.inverse_transform(df_onehot)"
   ]
  },
  {
   "cell_type": "code",
   "execution_count": 23,
   "id": "7643362e",
   "metadata": {},
   "outputs": [],
   "source": [
    "#*********** One-Hot-DATENSÄTZE ****************\n",
    "\n",
    "#df_onehot_reg: df_bereinigt nach One-hot-Codierung\n",
    "# --> Für Regressionsprobleme (Label ist der \"Preis\" in Euro)\n",
    "\n",
    "#df_onehot_klas: df_klassifikation nach One-hot-Codierung\n",
    "# --> Für Klassifikationsprobleme (Label ist \"Buchen\")"
   ]
  },
  {
   "cell_type": "code",
   "execution_count": 24,
   "id": "9ef3df09",
   "metadata": {
    "scrolled": true
   },
   "outputs": [
    {
     "data": {
      "text/html": [
       "<div>\n",
       "<style scoped>\n",
       "    .dataframe tbody tr th:only-of-type {\n",
       "        vertical-align: middle;\n",
       "    }\n",
       "\n",
       "    .dataframe tbody tr th {\n",
       "        vertical-align: top;\n",
       "    }\n",
       "\n",
       "    .dataframe thead th {\n",
       "        text-align: right;\n",
       "    }\n",
       "</style>\n",
       "<table border=\"1\" class=\"dataframe\">\n",
       "  <thead>\n",
       "    <tr style=\"text-align: right;\">\n",
       "      <th></th>\n",
       "      <th>Flugnummer_1</th>\n",
       "      <th>Flugnummer_2</th>\n",
       "      <th>Flugnummer_3</th>\n",
       "      <th>Flugnummer_4</th>\n",
       "      <th>Flugnummer_5</th>\n",
       "      <th>Flugnummer_6</th>\n",
       "      <th>Flugnummer_7</th>\n",
       "      <th>Flugnummer_8</th>\n",
       "      <th>Flugnummer_9</th>\n",
       "      <th>Flugnummer_10</th>\n",
       "      <th>...</th>\n",
       "      <th>Wochentag des Abflugs_5</th>\n",
       "      <th>Wochentag des Abflugs_6</th>\n",
       "      <th>Wochentag des Abflugs_7</th>\n",
       "      <th>Abflugzeit_1</th>\n",
       "      <th>Abflugzeit_2</th>\n",
       "      <th>Abflugzeit_3</th>\n",
       "      <th>Abflugzeit_4</th>\n",
       "      <th>Abflugzeit_5</th>\n",
       "      <th>Tage bis Abflug</th>\n",
       "      <th>Preis</th>\n",
       "    </tr>\n",
       "  </thead>\n",
       "  <tbody>\n",
       "    <tr>\n",
       "      <th>0</th>\n",
       "      <td>1</td>\n",
       "      <td>0</td>\n",
       "      <td>0</td>\n",
       "      <td>0</td>\n",
       "      <td>0</td>\n",
       "      <td>0</td>\n",
       "      <td>0</td>\n",
       "      <td>0</td>\n",
       "      <td>0</td>\n",
       "      <td>0</td>\n",
       "      <td>...</td>\n",
       "      <td>0</td>\n",
       "      <td>0</td>\n",
       "      <td>0</td>\n",
       "      <td>1</td>\n",
       "      <td>0</td>\n",
       "      <td>0</td>\n",
       "      <td>0</td>\n",
       "      <td>0</td>\n",
       "      <td>109</td>\n",
       "      <td>98</td>\n",
       "    </tr>\n",
       "    <tr>\n",
       "      <th>1</th>\n",
       "      <td>1</td>\n",
       "      <td>0</td>\n",
       "      <td>0</td>\n",
       "      <td>0</td>\n",
       "      <td>0</td>\n",
       "      <td>0</td>\n",
       "      <td>0</td>\n",
       "      <td>0</td>\n",
       "      <td>0</td>\n",
       "      <td>0</td>\n",
       "      <td>...</td>\n",
       "      <td>0</td>\n",
       "      <td>0</td>\n",
       "      <td>0</td>\n",
       "      <td>1</td>\n",
       "      <td>0</td>\n",
       "      <td>0</td>\n",
       "      <td>0</td>\n",
       "      <td>0</td>\n",
       "      <td>108</td>\n",
       "      <td>98</td>\n",
       "    </tr>\n",
       "    <tr>\n",
       "      <th>2</th>\n",
       "      <td>1</td>\n",
       "      <td>0</td>\n",
       "      <td>0</td>\n",
       "      <td>0</td>\n",
       "      <td>0</td>\n",
       "      <td>0</td>\n",
       "      <td>0</td>\n",
       "      <td>0</td>\n",
       "      <td>0</td>\n",
       "      <td>0</td>\n",
       "      <td>...</td>\n",
       "      <td>0</td>\n",
       "      <td>0</td>\n",
       "      <td>0</td>\n",
       "      <td>1</td>\n",
       "      <td>0</td>\n",
       "      <td>0</td>\n",
       "      <td>0</td>\n",
       "      <td>0</td>\n",
       "      <td>107</td>\n",
       "      <td>98</td>\n",
       "    </tr>\n",
       "    <tr>\n",
       "      <th>3</th>\n",
       "      <td>1</td>\n",
       "      <td>0</td>\n",
       "      <td>0</td>\n",
       "      <td>0</td>\n",
       "      <td>0</td>\n",
       "      <td>0</td>\n",
       "      <td>0</td>\n",
       "      <td>0</td>\n",
       "      <td>0</td>\n",
       "      <td>0</td>\n",
       "      <td>...</td>\n",
       "      <td>0</td>\n",
       "      <td>0</td>\n",
       "      <td>0</td>\n",
       "      <td>1</td>\n",
       "      <td>0</td>\n",
       "      <td>0</td>\n",
       "      <td>0</td>\n",
       "      <td>0</td>\n",
       "      <td>106</td>\n",
       "      <td>98</td>\n",
       "    </tr>\n",
       "    <tr>\n",
       "      <th>4</th>\n",
       "      <td>1</td>\n",
       "      <td>0</td>\n",
       "      <td>0</td>\n",
       "      <td>0</td>\n",
       "      <td>0</td>\n",
       "      <td>0</td>\n",
       "      <td>0</td>\n",
       "      <td>0</td>\n",
       "      <td>0</td>\n",
       "      <td>0</td>\n",
       "      <td>...</td>\n",
       "      <td>0</td>\n",
       "      <td>0</td>\n",
       "      <td>0</td>\n",
       "      <td>1</td>\n",
       "      <td>0</td>\n",
       "      <td>0</td>\n",
       "      <td>0</td>\n",
       "      <td>0</td>\n",
       "      <td>105</td>\n",
       "      <td>98</td>\n",
       "    </tr>\n",
       "  </tbody>\n",
       "</table>\n",
       "<p>5 rows × 34 columns</p>\n",
       "</div>"
      ],
      "text/plain": [
       "   Flugnummer_1  Flugnummer_2  Flugnummer_3  Flugnummer_4  Flugnummer_5  \\\n",
       "0             1             0             0             0             0   \n",
       "1             1             0             0             0             0   \n",
       "2             1             0             0             0             0   \n",
       "3             1             0             0             0             0   \n",
       "4             1             0             0             0             0   \n",
       "\n",
       "   Flugnummer_6  Flugnummer_7  Flugnummer_8  Flugnummer_9  Flugnummer_10  ...  \\\n",
       "0             0             0             0             0              0  ...   \n",
       "1             0             0             0             0              0  ...   \n",
       "2             0             0             0             0              0  ...   \n",
       "3             0             0             0             0              0  ...   \n",
       "4             0             0             0             0              0  ...   \n",
       "\n",
       "   Wochentag des Abflugs_5  Wochentag des Abflugs_6  Wochentag des Abflugs_7  \\\n",
       "0                        0                        0                        0   \n",
       "1                        0                        0                        0   \n",
       "2                        0                        0                        0   \n",
       "3                        0                        0                        0   \n",
       "4                        0                        0                        0   \n",
       "\n",
       "   Abflugzeit_1  Abflugzeit_2  Abflugzeit_3  Abflugzeit_4  Abflugzeit_5  \\\n",
       "0             1             0             0             0             0   \n",
       "1             1             0             0             0             0   \n",
       "2             1             0             0             0             0   \n",
       "3             1             0             0             0             0   \n",
       "4             1             0             0             0             0   \n",
       "\n",
       "   Tage bis Abflug  Preis  \n",
       "0              109     98  \n",
       "1              108     98  \n",
       "2              107     98  \n",
       "3              106     98  \n",
       "4              105     98  \n",
       "\n",
       "[5 rows x 34 columns]"
      ]
     },
     "execution_count": 24,
     "metadata": {},
     "output_type": "execute_result"
    }
   ],
   "source": [
    "#Beispielhafte Darstellung der One-Hot-Codierung\n",
    "df_onehot_reg.head()"
   ]
  },
  {
   "cell_type": "markdown",
   "id": "9e0295bf",
   "metadata": {},
   "source": [
    "## 4. Erstellen des Trainings- und Testdatensatzes <a class=\"anchor\" id=\"datensatz\"></a>\n",
    "\n",
    "Zunächst müssen die Prädiktoren von den Labels getrennt werden. Dies erfolgt jeweils für beide Datensätze."
   ]
  },
  {
   "cell_type": "code",
   "execution_count": 25,
   "id": "a5de28d6",
   "metadata": {},
   "outputs": [],
   "source": [
    "#Datensätze splitten\n",
    "#Regressions-Datensatz\n",
    "y_reg = df_onehot_reg[\"Preis\"].copy()\n",
    "X_reg = df_onehot_reg.drop(\"Preis\", axis=1)\n",
    "\n",
    "#Klassifikations-Datensatz\n",
    "y_klas = df_onehot_klas[\"Buchen\"].copy()\n",
    "X_klas = df_onehot_klas.drop(\"Buchen\", axis=1)"
   ]
  },
  {
   "cell_type": "markdown",
   "id": "c3f2c853",
   "metadata": {},
   "source": [
    "Als nächstes können die Datensätze in einen Trainings- und einen Testdatensatz geteilt werden, wobei der Testdatensatz 20% der gesamten Daten ausmachen soll. "
   ]
  },
  {
   "cell_type": "code",
   "execution_count": 26,
   "id": "e178993f",
   "metadata": {},
   "outputs": [],
   "source": [
    "from sklearn.model_selection import train_test_split\n",
    "\n",
    "#Erzeugen von Trainings- und Testdatensatz\n",
    "X_train_reg, X_test_reg, y_train_reg, y_test_reg = train_test_split(X_reg, y_reg, test_size=0.2)\n",
    "X_train_klas, X_test_klas, y_train_klas, y_test_klas = train_test_split(X_klas, y_klas, test_size=0.2)"
   ]
  },
  {
   "cell_type": "markdown",
   "id": "0cd43c24",
   "metadata": {},
   "source": [
    "Der Testdatensatz bleibt zunächst unberührt und wird erst am Ende getestet, nachdem ein Modell endgültig trainiert wurde. Daher werden die nachfolgenden Berechnungen und Maße lediglich auf den Testdaten ausgeführt."
   ]
  },
  {
   "cell_type": "markdown",
   "id": "cfcb0ef3",
   "metadata": {},
   "source": [
    "## 5. Anwendung der ML-Algorithmen (Regressionsproblem) <a class=\"anchor\" id=\"anwendung-regressionsproblem\"></a>\n",
    "\n",
    "Es sollen nun alle für Regressionsprobleme geeigneten Algorithmen auf den entsprechenden Trainingsdatensatz angewendet und verglichen werden. Zur Vereinfachung wird der Ablauf in einer Funktion definiert und anschließend auf jeden einzelnen Algorithmus angewendet. Zunächst wird der gesamte Trainingsdatensatz trainiert und die Qualitätsmaße ausgegeben, um einen ersten Überblick zu erhalten. Anschließend erfolgt ggf. ein erneutes Training durch Kreuzvalidierung. \n",
    "\n",
    "Bei der Kreuzvalidierung wird der Trainingsdatensatz in zehn sogenannte \"Folds\" geteilt. Von diesen werden dann neun Folds zum Trainieren verwendet und das letzte Fold wird zur Validierung verwendet. Dieses Vorgehen wird zehn Mal wiederholt, um aussagekräftige Ergebnisse zu erhalten. Nach der Kreuzvalidierung werden die Ergebnisse aller zehn Durchläufe ausgegeben.\n",
    "\n",
    "Ggf. werden anschließend die Hyperparameter der Modelle mit Hilfe einer Gittersuche verändert, um die Ergebnisse zu optimieren. Die beste Kombination der Hyperparameter wird anschließend verwendet, um ein optimiertes Modell zu trainieren. \n",
    "\n",
    "Anmerkung: An dieser Stelle sei bereits erwähnt, dass die Wahl der Hyperparameter sehr komplex ist und die Gittersuche extrem lange Rechenzeiten benötigt. Da eine umfangreiche Gittersuche nicht umsetzbar war, werden lediglich wenige Hyperparameter getestet, um die Modelle zumindest ein wenig zu optimieren.\n",
    "\n",
    "Um sich die Ergebnisse besser vorstellen zu können, werden die tatsächlichen Preise und die vorhergesagten Preise für einen ausgewählten Flug graphisch dargestellt. Dieser Flug wurde zufällig ausgewählt. Es sei erwähnt, dass es möglich ist, dass einzelne Preise dieses Fluges bereits als Trainingsdaten dienten, da der Trainingsdatensatz rein zufällig erzeugt wurde."
   ]
  },
  {
   "cell_type": "code",
   "execution_count": 27,
   "id": "0829fcd1",
   "metadata": {},
   "outputs": [],
   "source": [
    "from sklearn import metrics\n",
    "from sklearn.model_selection import cross_val_score\n",
    "\n",
    "#Die Funktion bekommt den Algorithmus, den Trainingsdatensatz ohne Labels und die Trainingslabels übergeben\n",
    "#Es wird ein Modell trainiert und anschließend Vorhersagen für den Trainingsdatensatz getroffen\n",
    "#Die Ergebnisse werden ausgegeben (Score, MAE, MSE, RMSE)\n",
    "#Zurückgegeben wird das trainierte Modell, um dieses für weitere Vorhersagen zu nutzen\n",
    "\n",
    "def vorhersage(ml_algorithmus, X_train, y_train):\n",
    "    #Trainiere das entsprechende Model\n",
    "    model = ml_algorithmus.fit(X_train,y_train)\n",
    "    \n",
    "    #Bestimme Werte für die Testdaten\n",
    "    y_vorhergesagt = model.predict(X_train)\n",
    "    \n",
    "    #Gebe verschiedene Maße zur Qualitätsbestimmung aus\n",
    "    print(\"Trainingsdaten-Score: \", model.score(X_train,y_train))\n",
    "    print()\n",
    "    print(\"Qualitätsmaße des Trainingsdatensatzes: \")\n",
    "    print(\"MAE: \", metrics.mean_absolute_error(y_train, y_vorhergesagt))\n",
    "    print(\"MSE: \", metrics.mean_squared_error(y_train, y_vorhergesagt))\n",
    "    print(\"RMSE: \", np.sqrt(metrics.mean_absolute_error(y_train, y_vorhergesagt)))\n",
    "    \n",
    "    return model"
   ]
  },
  {
   "cell_type": "code",
   "execution_count": 28,
   "id": "2de20422",
   "metadata": {},
   "outputs": [],
   "source": [
    "#Eingabeparameter: Das trainierte Modell, der Trainingsdatensatz ohne Labels, und die Trainingslabels\n",
    "#Die Funktion führt eine Kreuzvalidierung mit 10 Behältern durch -> 10 Durchläufe\n",
    "#9 der 10 Behälter dienen dem Training, 1 Behälter der Validierung der Ergebnisse\n",
    "#Ausgegeben werden die RMSE der 10 Durchläufe, der Mittelwert und die Standardabweichung\n",
    "\n",
    "def kreuzvalidierung(model, X_train, y_train):\n",
    "    print()\n",
    "    print(\"Qualitätsmaße nach Kreuzvalidierung: \")\n",
    "    \n",
    "    scores = cross_val_score(model, X_train, y_train,\n",
    "                             scoring=\"neg_mean_squared_error\", cv=10)\n",
    "    #Gib RMSE für alle Durchläufe an\n",
    "    scores_werte = np.sqrt(-scores)\n",
    "    print(\"Scores der 10 Durchläufe: \", scores_werte)\n",
    "    print(\"Mittelwert: \", scores_werte.mean())\n",
    "    print(\"Standardabweichung: \", scores_werte.std())\n",
    "    \n",
    "    return"
   ]
  },
  {
   "cell_type": "code",
   "execution_count": 29,
   "id": "bd5875ba",
   "metadata": {},
   "outputs": [],
   "source": [
    "#Eingabeparameter: Das trainierte Modell, der Datensatz ohne Label, die Labels, der onehot-Encoder \n",
    "#zur Entschlüsselung und die gespeicherte Spalte mit den Abflugdaten (optional ein PolynomialFeatures())\n",
    "#Die Funktion soll mit Hilfe des trainierten Modells Vorhersagen für die gesamten Daten treffen\n",
    "#Anschließend werden die verschiedenen DataFrames zu einem zusammengefügt\n",
    "#Danach wird ein bestimmter Flug ausgewählt, der beispielhaft die tatsächlichen und vorhergesagten\n",
    "#Daten (graphisch) gegenüberstellen soll.\n",
    "\n",
    "def vergleiche(model, X, y, encoder, abflugdaten, poly=\"\", flugnummer=\"BA 969\", abflugdatum=\"2023-02-27\"):\n",
    "    \n",
    "    #Sage Preise vorher\n",
    "    if (poly != \"\"):\n",
    "        y_vorhergesagt = model.predict(poly.transform(X))\n",
    "    else:\n",
    "        y_vorhergesagt = model.predict(X)\n",
    "    y_vorhergesagt = pd.DataFrame({\"Preisvorhersage\": y_vorhergesagt})\n",
    "    y = pd.DataFrame({\"Preis\": y})\n",
    "    \n",
    "    #Bringe alle Daten in einem DataFrame zusammen\n",
    "    konkat = pd.concat([X, y], axis=1)\n",
    "    df_ursp = encoder.inverse_transform(konkat)\n",
    "    df_ursp = pd.concat([abflugdaten, df_ursp, y_vorhergesagt], axis=1)\n",
    "    \n",
    "    #Wähle nun die Daten für folgenden Flug aus: BA 969 vom 27.02.2023\n",
    "    df_flug = df_ursp[(df_ursp[\"Flugnummer\"] == flugnummer) & (df_ursp[\"Abflugdatum\"] == abflugdatum)]\n",
    "    x = df_flug[\"Tage bis Abflug\"]\n",
    "    y_1 = df_flug[\"Preis\"]\n",
    "    y_2 = df_flug[\"Preisvorhersage\"]\n",
    "    \n",
    "    #Plotten der Ergebnisse\n",
    "    fig, ax = plt.subplots(figsize=(10,6))\n",
    "    ax.set_title(\"Vergleich der tatsächlichen und vorhergesagten Preise\", size=15)\n",
    "\n",
    "    ax.plot(x, y_1, label=\"Tatsächlicher Preis\")\n",
    "    ax.plot(x, y_2, label=\"Vorhergesagter Preis\", color=\"red\")\n",
    "    \n",
    "    ax.set_ylabel(\"Preis in Euro\", size=10)\n",
    "    ax.set_xlabel(\"Tage bis Abflug\", size=10)\n",
    "    ax.legend()\n",
    "    return"
   ]
  },
  {
   "cell_type": "code",
   "execution_count": 30,
   "id": "4c250df3",
   "metadata": {},
   "outputs": [],
   "source": [
    "#Die Funktion gibt die Testergebnisse des Testdatensatzes aus (Score, MAE, MSE, RMSE)\n",
    "\n",
    "def testergebnisse(model, X_test, y_test):\n",
    "    \n",
    "    #Wende das Modell auf Testdaten an\n",
    "    y_vorhergesagt = model.predict(X_test)\n",
    "    \n",
    "    #Gebe Qualitätsmaße aus\n",
    "    print(\"Testdaten-Score: \", model.score(X_test,y_test))\n",
    "    print()\n",
    "    print(\"Qualitätsmaße des Testdatensatzes: \")\n",
    "    print(\"MAE: \", metrics.mean_absolute_error(y_test, y_vorhergesagt))\n",
    "    print(\"MSE: \", metrics.mean_squared_error(y_test, y_vorhergesagt))\n",
    "    print(\"RMSE: \", np.sqrt(metrics.mean_absolute_error(y_test, y_vorhergesagt)))\n",
    "    \n",
    "    return"
   ]
  },
  {
   "cell_type": "code",
   "execution_count": 31,
   "id": "23a2a24a",
   "metadata": {},
   "outputs": [],
   "source": [
    "from sklearn.model_selection import GridSearchCV\n",
    "\n",
    "#Die Funktion bekommt das trainierte Modell, eine Liste von Dictionaries, den Trainingsdatensatz\n",
    "#ohne Labels und die Trainingslabels übergeben.\n",
    "#Es werden alle Kombinationen probehalber je 5 mal trainiert, um die beste Kombination von Hyperparametern\n",
    "#zu erhalten. Die Ergebnisse für jede Kombination wird ausgegeben. Die beste Kombination wird ausgegeben.\n",
    "\n",
    "def gittersuche(model, param_grid, X_train, y_train, methode=\"neg_mean_squared_error\"):\n",
    "    \n",
    "    grid_search = GridSearchCV(model, param_grid, cv=5,\n",
    "                           scoring=methode,return_train_score=True)\n",
    "    #Trainiere auf Trainingsdaten\n",
    "    grid_search.fit(X_train, y_train)\n",
    "    \n",
    "    #Stelle die Ergebnisse dar \n",
    "    print(\"Alle Ergebnisse der Gittersuche:\")\n",
    "    results = grid_search.cv_results_\n",
    "\n",
    "    for mean_score, params in zip(results[\"mean_test_score\"], results[\"params\"]):\n",
    "        if(methode == \"neg_mean_squared_error\"):\n",
    "            print(np.sqrt(-mean_score), params)   #(RMSE + getestete Parameter) -> nur für Regression\n",
    "        else: # -> Klassifikation\n",
    "            print(mean_score, params)\n",
    "        \n",
    "    #Gebe die beste Kombination der Hyperparameter aus\n",
    "    print()\n",
    "    print(\"Die beste Kombination lautet: \", grid_search.best_estimator_)\n",
    "    return"
   ]
  },
  {
   "cell_type": "markdown",
   "id": "680318a9",
   "metadata": {},
   "source": [
    "## 5.1. Lineare Regression <a class=\"anchor\" id=\"lineare-regression\"></a>\n",
    "\n",
    "Zunächst wird das Modell trainiert und Qualitätsmaße der Trainingsdaten ausgegeben:"
   ]
  },
  {
   "cell_type": "code",
   "execution_count": 32,
   "id": "15c1250c",
   "metadata": {
    "scrolled": true
   },
   "outputs": [
    {
     "name": "stdout",
     "output_type": "stream",
     "text": [
      "--------- Lineare Regression ---------\n",
      "\n",
      "Trainingsdaten-Score:  0.32285971204210995\n",
      "\n",
      "Qualitätsmaße des Trainingsdatensatzes: \n",
      "MAE:  25.968292620681382\n",
      "MSE:  2254.1566198781347\n",
      "RMSE:  5.095909400752861\n",
      "\n",
      "Qualitätsmaße nach Kreuzvalidierung: \n",
      "Scores der 10 Durchläufe:  [49.84484001 48.05753791 49.79538343 46.73482002 47.27567827 49.21583538\n",
      " 44.22291814 46.1109501  47.08387968 46.63893416]\n",
      "Mittelwert:  47.498077711971085\n",
      "Standardabweichung:  1.680508810859273\n"
     ]
    }
   ],
   "source": [
    "from sklearn.linear_model import LinearRegression\n",
    "\n",
    "print(\"--------- Lineare Regression ---------\")\n",
    "print()\n",
    "linreg_model = LinearRegression()\n",
    "linreg_model = vorhersage(linreg_model, X_train_reg, y_train_reg)\n",
    "kreuzvalidierung(linreg_model, X_train_reg, y_train_reg)"
   ]
  },
  {
   "cell_type": "markdown",
   "id": "86236c50",
   "metadata": {},
   "source": [
    "Der Trainingsdatensatz selbst erreicht nur eine Genauigkeit von 32.28%, ohne überhaupt das erzeugte Modell an den Testdaten zu testen. Der MSE ist sehr hoch, was auf hohe Abweichungen einzelner Werte hindeutet. Im Schnitt weichen die Werte um 25.97 Euro vom tatsächlichen Preis ab. Ein Ergebnis von 32.28% ist extrem schlecht. Allerdings ist dieses Ergebnis keine Überraschung, da zwischen den Attributen (Prädiktoren) und dem Label kein linearer Zusammenhang besteht. Demnach eignet sich die lineare Regression nicht, um Flugpreise vorhersagen zu können.\n",
    "\n",
    "Zum besseren Vergleich werden die tatsächlichen und vorhergesagten Preise anhand eines beispielhaften Fluges graphisch dargestellt."
   ]
  },
  {
   "cell_type": "code",
   "execution_count": 33,
   "id": "466a9acd",
   "metadata": {},
   "outputs": [
    {
     "data": {
      "image/png": "[encoded data removed]",
      "text/plain": [
       "<Figure size 720x432 with 1 Axes>"
      ]
     },
     "metadata": {
      "needs_background": "light"
     },
     "output_type": "display_data"
    }
   ],
   "source": [
    "vergleiche(linreg_model, X_reg, y_reg, onehot_encoder_reg, abflugdaten)"
   ]
  },
  {
   "cell_type": "markdown",
   "id": "8d2cab73",
   "metadata": {},
   "source": [
    "**Exkurs:**\n",
    "\n",
    "Bevor die lineare Regression aufgrund der schlechten Ergebnisse verworfen wird, kann in einem weiteren Schritt eine polynomielle Regression getestet werden. Hierfür werden die Trainingsdaten in einen erweiterten Merkmalsraum abgebildet. Anschließend wird der Algorithmus der linearen Regression erneut trainiert."
   ]
  },
  {
   "cell_type": "code",
   "execution_count": 34,
   "id": "003d1422",
   "metadata": {},
   "outputs": [
    {
     "name": "stdout",
     "output_type": "stream",
     "text": [
      "Trainingsdaten-Score:  0.490492563864511\n",
      "\n",
      "Qualitätsmaße des Trainingsdatensatzes: \n",
      "MAE:  21.460495983639237\n",
      "MSE:  1696.1175999520085\n",
      "RMSE:  4.632547461563587\n"
     ]
    }
   ],
   "source": [
    "from sklearn.preprocessing import PolynomialFeatures\n",
    "\n",
    "poly = PolynomialFeatures(degree=2, include_bias=False)\n",
    "X_poly = poly.fit_transform(X_train_reg.copy())\n",
    "poly_model = LinearRegression()\n",
    "poly_model = vorhersage(poly_model, X_poly, y_train_reg)"
   ]
  },
  {
   "cell_type": "code",
   "execution_count": 35,
   "id": "79627d09",
   "metadata": {},
   "outputs": [
    {
     "data": {
      "image/png": "[encoded data removed]",
      "text/plain": [
       "<Figure size 720x432 with 1 Axes>"
      ]
     },
     "metadata": {
      "needs_background": "light"
     },
     "output_type": "display_data"
    }
   ],
   "source": [
    "vergleiche(poly_model, X_reg, y_reg, onehot_encoder_reg, abflugdaten, poly)"
   ]
  },
  {
   "cell_type": "markdown",
   "id": "9e50ad7e",
   "metadata": {},
   "source": [
    "Es ist zu erkennen, dass die Ergebnisse tatsächlich schon deutlich besser werden. Allerdings ist eine Genauigkeit von 49.05% weiterhin zu schlecht, um den Algorithmus weiter zu betrachten. Auch der MSE ist weiterhin sehr hoch, was auf stark abweichende Werte hindeutet. Man könnte versuchen, die Dimension des Merkmalsraums zu vergrößern, allerdings erhöht sich dadurch die Anzahl der Attribute enorm, wobei eine deutlich bessere Anpassung nicht zu erwarten ist. Aus diesem Grund findet keine weitere Anpassung des Algorithmus statt.\n",
    "\n",
    "## 5.2. Entscheidungsbäume <a class=\"anchor\" id=\"entscheidungsbaeume\"></a>\n",
    "\n",
    "Trainieren des Modells:"
   ]
  },
  {
   "cell_type": "code",
   "execution_count": 36,
   "id": "88138bca",
   "metadata": {
    "scrolled": false
   },
   "outputs": [
    {
     "name": "stdout",
     "output_type": "stream",
     "text": [
      "--------- Entscheidungsbaum (Regression) ---------\n",
      "\n",
      "Trainingsdaten-Score:  0.7176866117136012\n",
      "\n",
      "Qualitätsmaße des Trainingsdatensatzes: \n",
      "MAE:  11.965336830114705\n",
      "MSE:  939.8031758015663\n",
      "RMSE:  3.4590947992379024\n",
      "\n",
      "Qualitätsmaße nach Kreuzvalidierung: \n",
      "Scores der 10 Durchläufe:  [50.03380522 47.17234816 50.18712394 48.35918714 47.80902371 48.81000746\n",
      " 46.51365727 48.86623474 48.62968675 43.65474672]\n",
      "Mittelwert:  48.00358211133086\n",
      "Standardabweichung:  1.8073091130825623\n"
     ]
    }
   ],
   "source": [
    "from sklearn.tree import DecisionTreeRegressor\n",
    "\n",
    "print(\"--------- Entscheidungsbaum (Regression) ---------\")\n",
    "print()\n",
    "dec_reg_model = DecisionTreeRegressor()\n",
    "dec_reg_model = vorhersage(dec_reg_model, X_train_reg, y_train_reg)\n",
    "kreuzvalidierung(dec_reg_model, X_train_reg, y_train_reg)"
   ]
  },
  {
   "cell_type": "markdown",
   "id": "9e6f1f58",
   "metadata": {},
   "source": [
    "Die Ergebnisse sehen im Vergleich zur linearen Regression schon deutlich besser aus. Die Vorhersagegenauigkeit für den bekannten Trainingsdatensatz liegt bei 71.77% und die mittlere Abweichung vom tatsächlichen Wert liegt bei 11.97 Euro. Die Werte nach der Kreuzvalidierung sehen schon etwas schlechter aus, was auf ein Overfitting der Trainingsdaten hindeutet.\n",
    "\n",
    "Es soll nun versucht werden, den Algorithmus durch geeignete Hyperparameter zu verbessern, indem der RMSE minimiert wird. Zunächst wird die aktuelle Tiefe und die Anzahl der Blätter zur Orientierung bestimmt, um die Hyperparameter in geeigneter Weise anzupassen. Anschließend werden mit Hilfe einer Gittersuche alle möglichen Kombinationen der angegebenen Hyperparameter trainiert. Die beste Kombination wird ausgegeben.\n"
   ]
  },
  {
   "cell_type": "code",
   "execution_count": 37,
   "id": "ac80dd5b",
   "metadata": {},
   "outputs": [
    {
     "name": "stdout",
     "output_type": "stream",
     "text": [
      "Tiefe:  33\n",
      "Anzahl der Blätter:  11767\n"
     ]
    }
   ],
   "source": [
    "#Tiefe des erzeugten Baumes ausgeben\n",
    "print(\"Tiefe: \", dec_reg_model.get_depth())\n",
    "print(\"Anzahl der Blätter: \", dec_reg_model.get_n_leaves())"
   ]
  },
  {
   "cell_type": "code",
   "execution_count": 38,
   "id": "d43c27bf",
   "metadata": {},
   "outputs": [
    {
     "name": "stdout",
     "output_type": "stream",
     "text": [
      "Alle Ergebnisse der Gittersuche:\n",
      "38.78490916269553 {'criterion': 'squared_error', 'max_depth': 10, 'min_samples_split': 2}\n",
      "38.68815417010966 {'criterion': 'squared_error', 'max_depth': 10, 'min_samples_split': 4}\n",
      "38.4373655693216 {'criterion': 'squared_error', 'max_depth': 10, 'min_samples_split': 6}\n",
      "48.05209753697951 {'criterion': 'squared_error', 'max_depth': 20, 'min_samples_split': 2}\n",
      "47.2605662125107 {'criterion': 'squared_error', 'max_depth': 20, 'min_samples_split': 4}\n",
      "44.78533056088738 {'criterion': 'squared_error', 'max_depth': 20, 'min_samples_split': 6}\n",
      "48.11295630102254 {'criterion': 'squared_error', 'max_depth': 30, 'min_samples_split': 2}\n",
      "47.51236939502151 {'criterion': 'squared_error', 'max_depth': 30, 'min_samples_split': 4}\n",
      "44.8645327063887 {'criterion': 'squared_error', 'max_depth': 30, 'min_samples_split': 6}\n",
      "51.76048777726297 {'criterion': 'poisson', 'max_depth': 10, 'min_samples_split': 2}\n",
      "51.65916951200714 {'criterion': 'poisson', 'max_depth': 10, 'min_samples_split': 4}\n",
      "51.63235373784571 {'criterion': 'poisson', 'max_depth': 10, 'min_samples_split': 6}\n",
      "50.3356829272356 {'criterion': 'poisson', 'max_depth': 20, 'min_samples_split': 2}\n",
      "49.610587287795305 {'criterion': 'poisson', 'max_depth': 20, 'min_samples_split': 4}\n",
      "48.957643237705284 {'criterion': 'poisson', 'max_depth': 20, 'min_samples_split': 6}\n",
      "50.765769272435215 {'criterion': 'poisson', 'max_depth': 30, 'min_samples_split': 2}\n",
      "49.748773373261166 {'criterion': 'poisson', 'max_depth': 30, 'min_samples_split': 4}\n",
      "48.68455678506898 {'criterion': 'poisson', 'max_depth': 30, 'min_samples_split': 6}\n",
      "\n",
      "Die beste Kombination lautet:  DecisionTreeRegressor(max_depth=10, min_samples_split=6)\n"
     ]
    }
   ],
   "source": [
    "#Erstelle zu testende Hyperparameter\n",
    "param_grid = [{\"criterion\": [\"squared_error\", \"poisson\"], \n",
    "               \"max_depth\": [10, 20, 30],\n",
    "              \"min_samples_split\": [2, 4, 6]}]\n",
    "\n",
    "#Führe Gittersuche durch und gebe die Ergebnisse aus\n",
    "gittersuche(dec_reg_model, param_grid, X_train_reg, y_train_reg)"
   ]
  },
  {
   "cell_type": "markdown",
   "id": "5839ec4d",
   "metadata": {},
   "source": [
    "Es wird ein neues Modell trainiert, das nun die optimierten Hyperparameter verwendet."
   ]
  },
  {
   "cell_type": "code",
   "execution_count": 39,
   "id": "6e9b65d5",
   "metadata": {},
   "outputs": [
    {
     "name": "stdout",
     "output_type": "stream",
     "text": [
      "Trainingsdaten-Score:  0.6432372087774025\n",
      "\n",
      "Qualitätsmaße des Trainingsdatensatzes: \n",
      "MAE:  15.436379908530448\n",
      "MSE:  1187.6404666245915\n",
      "RMSE:  3.9289158693627493\n",
      "\n",
      "Qualitätsmaße nach Kreuzvalidierung: \n",
      "Scores der 10 Durchläufe:  [40.1338458  38.42809281 39.57839834 36.72214262 38.10788608 38.91462527\n",
      " 35.91478197 37.81745091 39.11790328 35.8066154 ]\n",
      "Mittelwert:  38.05417424773493\n",
      "Standardabweichung:  1.4185117066040949\n"
     ]
    }
   ],
   "source": [
    "#Trainiere den Algorithmus erneut, aber mit verbesserten Hyperparametern\n",
    "dec_reg_model_opt = DecisionTreeRegressor(max_depth=10, min_samples_split=6)\n",
    "dec_reg_model_opt = vorhersage(dec_reg_model_opt, X_train_reg, y_train_reg)\n",
    "kreuzvalidierung(dec_reg_model_opt, X_train_reg, y_train_reg)"
   ]
  },
  {
   "cell_type": "markdown",
   "id": "025fd642",
   "metadata": {},
   "source": [
    "Nun ist zu erkennen, dass die Ergebnisse auf den Trainingsdaten mit 64.32% zwar schlechter geworden sind, allerdings ist das Ziel, ein allgemeines Modell zu erzeugen, das bestmöglich auf unbekannten Daten funktioniert. Nach der Kreuzvalidierung ist zu erkennen, dass der RMSE deutlich geringer geworden ist. Das heißt, das Modell wurde verallgemeinert und funktioniert besser auf unbekannten Daten. Der RMSE hat sich von 48.00 auf 38.05 verbessert.\n",
    "\n",
    "Da dieses nun das beste getestete Modell ist, soll dieses nun auf die unbekannten Testdaten angewendet werden. Zunächst wird das erste trainierte Modell auf die Testdaten angewendet, anschließend wird das optimierte Modell verwendet."
   ]
  },
  {
   "cell_type": "code",
   "execution_count": 40,
   "id": "c8efdfd0",
   "metadata": {},
   "outputs": [
    {
     "name": "stdout",
     "output_type": "stream",
     "text": [
      "Erstes Modell:\n",
      "\n",
      "Testdaten-Score:  0.30099497503765826\n",
      "\n",
      "Qualitätsmaße des Testdatensatzes: \n",
      "MAE:  18.782404464222648\n",
      "MSE:  2256.2513626945447\n",
      "RMSE:  4.333867148889389\n",
      "\n",
      "Optimiertes Modell: \n",
      "\n",
      "Testdaten-Score:  0.5773704376734956\n",
      "\n",
      "Qualitätsmaße des Testdatensatzes: \n",
      "MAE:  16.409345923646697\n",
      "MSE:  1364.1654807353445\n",
      "RMSE:  4.050845087589341\n"
     ]
    }
   ],
   "source": [
    "print(\"Erstes Modell:\")\n",
    "print()\n",
    "testergebnisse(dec_reg_model, X_test_reg, y_test_reg)\n",
    "print()\n",
    "print(\"Optimiertes Modell: \")\n",
    "print()\n",
    "testergebnisse(dec_reg_model_opt, X_test_reg, y_test_reg)"
   ]
  },
  {
   "cell_type": "markdown",
   "id": "22479eee",
   "metadata": {},
   "source": [
    "Das optimierte Modell hat eine Genauigkeit von ca. 57.74% auf unbekannte Daten, was im Gegensatz zum ersten Modell (mit ca. 30.10%) schon deutlich besser ist. Insgesamt hat sich die Optimierung gelohnt, da neben dem Score auch der MSE enorm gesunken ist und auch die tatsächliche Abweichung ist von 18.78 Euro auf 16.41 Euro gesunken.\n",
    "Allerdings ist der MSE auch weiterhin sehr hoch und deutet auf hohe Abweichungen der Vorhersagen. Dies ist kein optimales Ergebnis für eine möglichst genaue Vorhersage.\n",
    "\n",
    "Die vorhergesagten Daten sollen nun anhand des beispielhaften Fluges graphisch dargestellt werden."
   ]
  },
  {
   "cell_type": "code",
   "execution_count": 41,
   "id": "9dd6c40d",
   "metadata": {},
   "outputs": [
    {
     "data": {
      "image/png": "[encoded data removed]",
      "text/plain": [
       "<Figure size 720x432 with 1 Axes>"
      ]
     },
     "metadata": {
      "needs_background": "light"
     },
     "output_type": "display_data"
    }
   ],
   "source": [
    "vergleiche(dec_reg_model_opt, X_reg, y_reg, onehot_encoder_reg, abflugdaten)"
   ]
  },
  {
   "cell_type": "markdown",
   "id": "74d658f2",
   "metadata": {},
   "source": [
    "Die Vorhersagen sind deutlich näher an den tatsächlichen Preisen als bei der linearen Regression. Dennoch sind teils sehr große Abweichungen zu erkennen."
   ]
  },
  {
   "cell_type": "markdown",
   "id": "d8495214",
   "metadata": {},
   "source": [
    "## 5.3. Random Forest <a class=\"anchor\" id=\"random-forest\"></a>\n",
    "\n",
    "Zunächst wird wieder das Modell trainiert:"
   ]
  },
  {
   "cell_type": "code",
   "execution_count": 42,
   "id": "04debbb3",
   "metadata": {},
   "outputs": [
    {
     "name": "stdout",
     "output_type": "stream",
     "text": [
      "--------- Random Forest (Regression) ---------\n",
      "\n",
      "Trainingsdaten-Score:  0.7141146414729518\n",
      "\n",
      "Qualitätsmaße des Trainingsdatensatzes: \n",
      "MAE:  12.22954795834464\n",
      "MSE:  951.6940358008287\n",
      "RMSE:  3.4970770592517173\n",
      "\n",
      "Qualitätsmaße nach Kreuzvalidierung: \n",
      "Scores der 10 Durchläufe:  [46.1027802  43.3701576  45.60043486 44.28126678 43.83240029 44.95316168\n",
      " 42.40263953 44.90438416 44.03373678 40.60436282]\n",
      "Mittelwert:  44.00853247055434\n",
      "Standardabweichung:  1.526293837382801\n"
     ]
    }
   ],
   "source": [
    "from sklearn.ensemble import RandomForestRegressor\n",
    "\n",
    "print(\"--------- Random Forest (Regression) ---------\")\n",
    "print()\n",
    "random_reg_model = RandomForestRegressor()\n",
    "random_reg_model = vorhersage(random_reg_model, X_train_reg, y_train_reg)\n",
    "kreuzvalidierung(random_reg_model, X_train_reg, y_train_reg)"
   ]
  },
  {
   "cell_type": "markdown",
   "id": "bf915a1a",
   "metadata": {},
   "source": [
    "Der Score ähnelt dem des Entscheidungsbaumes. Es wird nun versucht, das Model zu optimieren. Hierfür wurden bereits für den Entscheidungsbaum die optimalen Parameter bestimmt, die nun auch für den Random Forest verwendet werden sollen. Aufgrund der unverhältnismäßig langen Rechenzeiten ist ein Vergleich zwischen der Anzahl an Entscheidungsbäumen leider nicht durchführbar. Daher bleibt es bei der Standardanzahl von 100 Entscheidungsbäumen im Random Forest."
   ]
  },
  {
   "cell_type": "markdown",
   "id": "44df0bf5",
   "metadata": {},
   "source": [
    "Das optimierte Modell wird traininert. Anschließend werden die Ergebnisse verglichen."
   ]
  },
  {
   "cell_type": "code",
   "execution_count": 43,
   "id": "0deabdf3",
   "metadata": {},
   "outputs": [
    {
     "name": "stdout",
     "output_type": "stream",
     "text": [
      "Trainingsdaten-Score:  0.6653427729452723\n",
      "\n",
      "Qualitätsmaße des Trainingsdatensatzes: \n",
      "MAE:  14.822758417856146\n",
      "MSE:  1114.0524602818894\n",
      "RMSE:  3.8500335606142637\n",
      "\n",
      "Qualitätsmaße nach Kreuzvalidierung: \n",
      "Scores der 10 Durchläufe:  [39.26235332 36.85601151 38.37717181 36.00217046 36.8727973  37.28587184\n",
      " 34.10101733 36.18801988 37.3115001  34.76410951]\n",
      "Mittelwert:  36.70210230608953\n",
      "Standardabweichung:  1.4629205332880144\n"
     ]
    }
   ],
   "source": [
    "#Trainiere mit verbesserten Hyperparametern\n",
    "random_reg_model_opt = RandomForestRegressor(max_depth=10, min_samples_split=6)\n",
    "random_reg_model_opt = vorhersage(random_reg_model_opt, X_train_reg, y_train_reg)\n",
    "kreuzvalidierung(random_reg_model_opt, X_train_reg, y_train_reg)"
   ]
  },
  {
   "cell_type": "markdown",
   "id": "4c9b1148",
   "metadata": {},
   "source": [
    "Wie schon beim Entscheidungsbaum, wirkt das optimierte Modell zunächst schlechter. Der Trainingsdaten-Score ist niedriger und auch der MAE ist höher. Allerdings ist viel wichtiger, dass die RMSE-Werte nach der Kreuzvalidierung sinken. Dies deutet auf ein besseres Modell hin, da es besser verallgemeinert und daher besser auf nicht bekannten Daten arbeitet. Das zuerst trainierte Modell funktioniert lediglich auf dem Trainingsdatensatz gut (Overfitting). Aufgrund der niedrigeren RMSE-Werte nach der Kreuzvalidierung ist das optimierte Modell tatsächlich vielversprechender."
   ]
  },
  {
   "cell_type": "code",
   "execution_count": 44,
   "id": "d7d6c25b",
   "metadata": {},
   "outputs": [
    {
     "name": "stdout",
     "output_type": "stream",
     "text": [
      "Erstes Modell:\n",
      "\n",
      "Testdaten-Score:  0.39575680373873934\n",
      "\n",
      "Qualitätsmaße des Testdatensatzes: \n",
      "MAE:  17.602247872406725\n",
      "MSE:  1950.3787330238783\n",
      "RMSE:  4.195503291907507\n",
      "\n",
      "Optimiertes Modell: \n",
      "\n",
      "Testdaten-Score:  0.5958423590754123\n",
      "\n",
      "Qualitätsmaße des Testdatensatzes: \n",
      "MAE:  15.827113417569246\n",
      "MSE:  1304.5417350592581\n",
      "RMSE:  3.978330481190476\n"
     ]
    }
   ],
   "source": [
    "print(\"Erstes Modell:\")\n",
    "print()\n",
    "testergebnisse(random_reg_model, X_test_reg, y_test_reg)\n",
    "print()\n",
    "print(\"Optimiertes Modell: \")\n",
    "print()\n",
    "testergebnisse(random_reg_model_opt, X_test_reg, y_test_reg)"
   ]
  },
  {
   "cell_type": "code",
   "execution_count": 45,
   "id": "80757a9a",
   "metadata": {},
   "outputs": [
    {
     "data": {
      "image/png": "[encoded data removed]",
      "text/plain": [
       "<Figure size 720x432 with 1 Axes>"
      ]
     },
     "metadata": {
      "needs_background": "light"
     },
     "output_type": "display_data"
    }
   ],
   "source": [
    "vergleiche(random_reg_model_opt, X_reg, y_reg, onehot_encoder_reg, abflugdaten)"
   ]
  },
  {
   "cell_type": "markdown",
   "id": "0b2bfabb",
   "metadata": {},
   "source": [
    "Insgesamt ähnelt die graphische Darstellung der des Entscheidungsbaumes. Die vorhergesagten Daten wirken lediglich etwas genauer, wobei auch hier teils große Abweichungen zu erkennen sind."
   ]
  },
  {
   "cell_type": "markdown",
   "id": "5dcaf635",
   "metadata": {},
   "source": [
    "## 5.4. k-Nearest Neighbors <a class=\"anchor\" id=\"k-nearest-neighbor\"></a>\n",
    "\n",
    "Trainieren des Modells:"
   ]
  },
  {
   "cell_type": "code",
   "execution_count": 46,
   "id": "2f456dac",
   "metadata": {},
   "outputs": [
    {
     "name": "stdout",
     "output_type": "stream",
     "text": [
      "--------- k-Nearest Neighbours (Regression) ---------\n",
      "\n",
      "Trainingsdaten-Score:  0.6773646807604785\n",
      "\n",
      "Qualitätsmaße des Trainingsdatensatzes: \n",
      "MAE:  13.271662825505313\n",
      "MSE:  1074.0322996635673\n",
      "RMSE:  3.64302934732968\n",
      "\n",
      "Qualitätsmaße nach Kreuzvalidierung: \n",
      "Scores der 10 Durchläufe:  [41.76195169 39.15353281 39.85960687 39.3317618  40.01190829 39.83469725\n",
      " 37.84138328 40.2259968  39.17032665 37.07344191]\n",
      "Mittelwert:  39.42646073521432\n",
      "Standardabweichung:  1.2242968477060627\n"
     ]
    }
   ],
   "source": [
    "from sklearn.neighbors import KNeighborsRegressor \n",
    "\n",
    "print(\"--------- k-Nearest Neighbours (Regression) ---------\")\n",
    "print()\n",
    "neighbors_reg_model = KNeighborsRegressor ()\n",
    "neighbors_reg_model = vorhersage(neighbors_reg_model, X_train_reg, y_train_reg)\n",
    "kreuzvalidierung(neighbors_reg_model, X_train_reg, y_train_reg)"
   ]
  },
  {
   "cell_type": "markdown",
   "id": "2bcfce44",
   "metadata": {},
   "source": [
    "Optimierung der Parameter:"
   ]
  },
  {
   "cell_type": "code",
   "execution_count": 47,
   "id": "b6b02885",
   "metadata": {},
   "outputs": [
    {
     "name": "stdout",
     "output_type": "stream",
     "text": [
      "Alle Ergebnisse der Gittersuche:\n",
      "41.775692855139795 {'n_neighbors': 3, 'weights': 'uniform'}\n",
      "47.80217682751148 {'n_neighbors': 3, 'weights': 'distance'}\n",
      "38.86300562055728 {'n_neighbors': 5, 'weights': 'uniform'}\n",
      "47.838328902327255 {'n_neighbors': 5, 'weights': 'distance'}\n",
      "38.38589612178061 {'n_neighbors': 7, 'weights': 'uniform'}\n",
      "47.93993453654248 {'n_neighbors': 7, 'weights': 'distance'}\n",
      "\n",
      "Die beste Kombination lautet:  KNeighborsRegressor(n_neighbors=7)\n"
     ]
    }
   ],
   "source": [
    "#Erstelle zu testende Hyperparameter\n",
    "param_grid = [{\"n_neighbors\": [3,5,7],\n",
    "              \"weights\": [\"uniform\", \"distance\"]}]\n",
    "\n",
    "#Führe Gittersuche durch und gebe die Ergebnisse aus\n",
    "gittersuche(neighbors_reg_model, param_grid, X_train_reg, y_train_reg)"
   ]
  },
  {
   "cell_type": "markdown",
   "id": "a0cb3c86",
   "metadata": {},
   "source": [
    "Trainieren des optimierten Modells und Darstellung der Ergebnisse:"
   ]
  },
  {
   "cell_type": "code",
   "execution_count": 48,
   "id": "60ee826f",
   "metadata": {},
   "outputs": [
    {
     "name": "stdout",
     "output_type": "stream",
     "text": [
      "Trainingsdaten-Score:  0.6677464134022535\n",
      "\n",
      "Qualitätsmaße des Trainingsdatensatzes: \n",
      "MAE:  13.866104305506674\n",
      "MSE:  1106.0508952528003\n",
      "RMSE:  3.72372183514111\n",
      "\n",
      "Qualitätsmaße nach Kreuzvalidierung: \n",
      "Scores der 10 Durchläufe:  [40.47446025 38.39188755 39.41854136 37.54057145 38.5584717  39.46566044\n",
      " 35.95973263 38.37747888 38.1456791  35.53854726]\n",
      "Mittelwert:  38.187103061421126\n",
      "Standardabweichung:  1.448964886809358\n"
     ]
    }
   ],
   "source": [
    "#Wende den Algorithmus erneut an, aber mit verbesserten Hyperparametern\n",
    "neighbors_reg_model_opt = KNeighborsRegressor (n_neighbors=7)\n",
    "neighbors_reg_model_opt = vorhersage(neighbors_reg_model_opt, X_train_reg, y_train_reg)\n",
    "kreuzvalidierung(neighbors_reg_model_opt, X_train_reg, y_train_reg)"
   ]
  },
  {
   "cell_type": "code",
   "execution_count": 49,
   "id": "dd92246d",
   "metadata": {},
   "outputs": [
    {
     "name": "stdout",
     "output_type": "stream",
     "text": [
      "Erstes Modell:\n",
      "\n",
      "Testdaten-Score:  0.5144275077550202\n",
      "\n",
      "Qualitätsmaße des Testdatensatzes: \n",
      "MAE:  16.166645475736388\n",
      "MSE:  1567.3329349438438\n",
      "RMSE:  4.0207767254271145\n",
      "\n",
      "Optimiertes Modell: \n",
      "\n",
      "Testdaten-Score:  0.5555418081055452\n",
      "\n",
      "Qualitätsmaße des Testdatensatzes: \n",
      "MAE:  16.015817515817513\n",
      "MSE:  1434.6240231629843\n",
      "RMSE:  4.001976701058805\n"
     ]
    }
   ],
   "source": [
    "print(\"Erstes Modell:\")\n",
    "print()\n",
    "testergebnisse(neighbors_reg_model, X_test_reg, y_test_reg)\n",
    "print()\n",
    "print(\"Optimiertes Modell: \")\n",
    "print()\n",
    "testergebnisse(neighbors_reg_model_opt, X_test_reg, y_test_reg)"
   ]
  },
  {
   "cell_type": "code",
   "execution_count": 50,
   "id": "aaf52c15",
   "metadata": {},
   "outputs": [
    {
     "data": {
      "image/png": "[encoded data removed]",
      "text/plain": [
       "<Figure size 720x432 with 1 Axes>"
      ]
     },
     "metadata": {
      "needs_background": "light"
     },
     "output_type": "display_data"
    }
   ],
   "source": [
    "vergleiche(neighbors_reg_model_opt, X_reg, y_reg, onehot_encoder_reg, abflugdaten)"
   ]
  },
  {
   "cell_type": "markdown",
   "id": "aa6596ae",
   "metadata": {},
   "source": [
    "Im Vergleich zu den vorherigen Vergleichen erkennt man deutlich, dass die einzelnen Preise extrem stark schwanken und die Preise für jeden Tag unterschiedlich ausfallen. Insgesamt werden ähnlich schlechte Ergebnisse wie beim Entscheidungsbaum erzielt. "
   ]
  },
  {
   "cell_type": "markdown",
   "id": "9d4cebc7",
   "metadata": {},
   "source": [
    "## 5.5. Support Vector Machine <a class=\"anchor\" id=\"svm\"></a>\n",
    "\n",
    "Trainieren des Modells:"
   ]
  },
  {
   "cell_type": "code",
   "execution_count": 51,
   "id": "52c13331",
   "metadata": {
    "scrolled": false
   },
   "outputs": [
    {
     "name": "stdout",
     "output_type": "stream",
     "text": [
      "--------- SVM (Regression) ---------\n",
      "\n",
      "Trainingsdaten-Score:  0.1726626300654408\n",
      "\n",
      "Qualitätsmaße des Trainingsdatensatzes: \n",
      "MAE:  26.42720805621439\n",
      "MSE:  2754.1530794672326\n",
      "RMSE:  5.140740030016533\n"
     ]
    }
   ],
   "source": [
    "from sklearn.svm import SVR\n",
    "\n",
    "print(\"--------- SVM (Regression) ---------\")\n",
    "print()\n",
    "svm_reg_model = SVR()\n",
    "svm_reg_model = vorhersage(svm_reg_model, X_train_reg, y_train_reg)"
   ]
  },
  {
   "cell_type": "markdown",
   "id": "fcf21fd9",
   "metadata": {},
   "source": [
    "Aufgrund des noch schlechteren Ergebnisses als bei der linearen Regression, wird die SVM für das Regressionsproblem direkt verworfen, ohne weitere Berechnungen oder Optimierungen durchzuführen. Eine Genauigkeit von 17.23% auf dem Trainingsdatensatz ist extrem schlecht, weshalb auch keine großartigen Verbesserungen zu erwarten sind. Auf die Kreuzvalidierung wurde aufgrund der langen Rechenzeiten und der sowieso schon schlechten Ergebnisse verzichtet."
   ]
  },
  {
   "cell_type": "markdown",
   "id": "74d6fa9c",
   "metadata": {},
   "source": [
    "## 5.6. Multilayer Perceptron <a class=\"anchor\" id=\"mlp\"></a>\n",
    "\n",
    "Trainieren des Modells:"
   ]
  },
  {
   "cell_type": "code",
   "execution_count": 52,
   "id": "816f75b6",
   "metadata": {
    "scrolled": false
   },
   "outputs": [
    {
     "name": "stdout",
     "output_type": "stream",
     "text": [
      "--------- MLP (Regression) ---------\n",
      "\n",
      "Trainingsdaten-Score:  0.6194447050006839\n",
      "\n",
      "Qualitätsmaße des Trainingsdatensatzes: \n",
      "MAE:  16.137092118793685\n",
      "MSE:  1266.8441868071677\n",
      "RMSE:  4.017099963754162\n",
      "\n",
      "Qualitätsmaße nach Kreuzvalidierung: \n",
      "Scores der 10 Durchläufe:  [38.40526089 35.93353203 37.9938291  35.17828718 36.52893426 37.50812254\n",
      " 32.83122121 35.88864029 36.63473796 34.63254333]\n",
      "Mittelwert:  36.153510877298096\n",
      "Standardabweichung:  1.5838309102505512\n"
     ]
    }
   ],
   "source": [
    "from sklearn.neural_network import MLPRegressor\n",
    "import warnings\n",
    "warnings.filterwarnings(\"ignore\")\n",
    "\n",
    "print(\"--------- MLP (Regression) ---------\")\n",
    "print()\n",
    "mlp_reg_model = MLPRegressor()\n",
    "mlp_reg_model = vorhersage(mlp_reg_model, X_train_reg, y_train_reg)\n",
    "kreuzvalidierung(mlp_reg_model, X_train_reg, y_train_reg)"
   ]
  },
  {
   "cell_type": "markdown",
   "id": "8f5d2512",
   "metadata": {},
   "source": [
    "An dieser Stelle fällt auf, dass die RMSE-Werte nach Kreuzvalidierung bereits deutlich besser ausfallen, als bei den vorherigen Modellen. \n",
    "\n",
    "Optimierung des Modells mit anschließendem Training und Darstellung der Ergebnisse:"
   ]
  },
  {
   "cell_type": "code",
   "execution_count": 53,
   "id": "9b5c182c",
   "metadata": {
    "scrolled": true
   },
   "outputs": [
    {
     "name": "stdout",
     "output_type": "stream",
     "text": [
      "Alle Ergebnisse der Gittersuche:\n",
      "38.056642306289426 {'hidden_layer_sizes': (8, 8, 8), 'max_iter': 100}\n",
      "37.0828817002533 {'hidden_layer_sizes': (8, 8, 8), 'max_iter': 200}\n",
      "37.55815766249243 {'hidden_layer_sizes': (8, 8, 8), 'max_iter': 500}\n",
      "35.81021243998084 {'hidden_layer_sizes': (64, 64, 64), 'max_iter': 100}\n",
      "35.6674646454048 {'hidden_layer_sizes': (64, 64, 64), 'max_iter': 200}\n",
      "35.7278886947864 {'hidden_layer_sizes': (64, 64, 64), 'max_iter': 500}\n",
      "\n",
      "Die beste Kombination lautet:  MLPRegressor(hidden_layer_sizes=(64, 64, 64))\n"
     ]
    }
   ],
   "source": [
    "#Erstelle zu testende Hyperparameter\n",
    "param_grid = [{\"hidden_layer_sizes\": [(8,8,8),(64,64,64)],\n",
    "              \"max_iter\": [100, 200, 500]}]\n",
    "\n",
    "#Führe Gittersuche durch und gebe die Ergebnisse aus\n",
    "gittersuche(mlp_reg_model, param_grid, X_train_reg, y_train_reg)"
   ]
  },
  {
   "cell_type": "code",
   "execution_count": 54,
   "id": "48bc4b25",
   "metadata": {},
   "outputs": [
    {
     "name": "stdout",
     "output_type": "stream",
     "text": [
      "Trainingsdaten-Score:  0.6492061620520961\n",
      "\n",
      "Qualitätsmaße des Trainingsdatensatzes: \n",
      "MAE:  15.264722969009851\n",
      "MSE:  1167.7702037305153\n",
      "RMSE:  3.9070094662042796\n",
      "\n",
      "Qualitätsmaße nach Kreuzvalidierung: \n",
      "Scores der 10 Durchläufe:  [37.61305936 34.97070514 36.66027652 34.98514206 36.09785126 37.15227983\n",
      " 32.66713746 35.13398147 36.07552101 34.55244958]\n",
      "Mittelwert:  35.5908403671328\n",
      "Standardabweichung:  1.369291211619216\n"
     ]
    }
   ],
   "source": [
    "#Trainiere mit verbesserten Hyperparametern\n",
    "mlp_reg_model_opt = MLPRegressor(hidden_layer_sizes=(64, 64, 64))\n",
    "mlp_reg_model_opt = vorhersage(mlp_reg_model_opt, X_train_reg, y_train_reg)\n",
    "kreuzvalidierung(mlp_reg_model_opt, X_train_reg, y_train_reg)"
   ]
  },
  {
   "cell_type": "code",
   "execution_count": 55,
   "id": "78c48156",
   "metadata": {},
   "outputs": [
    {
     "name": "stdout",
     "output_type": "stream",
     "text": [
      "Erstes Modell:\n",
      "\n",
      "Testdaten-Score:  0.6089377528945559\n",
      "\n",
      "Qualitätsmaße des Testdatensatzes: \n",
      "MAE:  16.14470094657781\n",
      "MSE:  1262.272367752412\n",
      "RMSE:  4.018046906965847\n",
      "\n",
      "Optimiertes Modell: \n",
      "\n",
      "Testdaten-Score:  0.6174680647687991\n",
      "\n",
      "Qualitätsmaße des Testdatensatzes: \n",
      "MAE:  15.592602703870304\n",
      "MSE:  1234.7381911683342\n",
      "RMSE:  3.948746978963112\n"
     ]
    }
   ],
   "source": [
    "print(\"Erstes Modell:\")\n",
    "print()\n",
    "testergebnisse(mlp_reg_model, X_test_reg, y_test_reg)\n",
    "print()\n",
    "print(\"Optimiertes Modell: \")\n",
    "print()\n",
    "testergebnisse(mlp_reg_model_opt, X_test_reg, y_test_reg)"
   ]
  },
  {
   "cell_type": "markdown",
   "id": "94d1b851",
   "metadata": {},
   "source": [
    "Zu erkennen ist, dass sich das optimierte Modell nur minimal verbessert hat. Weitere Kombinationen, die ggf. noch bessere Ergebnisse erzielen würden, konnten aufgrund langer Rechenzeiten nicht erfolgen. "
   ]
  },
  {
   "cell_type": "code",
   "execution_count": 56,
   "id": "8d7f1584",
   "metadata": {},
   "outputs": [
    {
     "data": {
      "image/png": "[encoded data removed]",
      "text/plain": [
       "<Figure size 720x432 with 1 Axes>"
      ]
     },
     "metadata": {
      "needs_background": "light"
     },
     "output_type": "display_data"
    }
   ],
   "source": [
    "vergleiche(mlp_reg_model_opt, X_reg, y_reg, onehot_encoder_reg, abflugdaten)"
   ]
  },
  {
   "cell_type": "markdown",
   "id": "d4e0e2fa",
   "metadata": {},
   "source": [
    "In der graphischen Dartellung ist zu erkennen, dass die Vorhersagen weiterhin schlecht sind. Insbesondere kurz vor Abflug sind die Vorhersagen stark abweichend. Daher ist auch dieses Modell mit einer Genauigkeit von 61.75% nicht für Flugpreisvorhersagen geeignet, da diese zu sehr schwanken. \n",
    "\n",
    "Es wurden nun alle in der Abschlussarbeit vorgestellten (für Regressionsprobleme anwendbare) Algorithmen angewendet. Die besten Ergebnisse auf dem Testdatensatz erzielten:\n",
    "\n",
    "- MLP mit einer Genauigkeit von 61.75% und einer mittleren absoluten Abweichung von 15.59 Euro\n",
    "- Random Forest mit einer Genauigkeit von 59.58% und einer mittleren absoluten Abweichung von 15.83 Euro\n",
    "- Entscheidungsbaum mit einer Genauigkeit von 57.74% und einer mittleren absoluten Abweichung von 16.41 Euro"
   ]
  },
  {
   "cell_type": "markdown",
   "id": "e069d81f",
   "metadata": {},
   "source": [
    "## 6. Anwendung der ML-Algorithmen (Klassifikationsproblem) <a class=\"anchor\" id=\"anwendung-klassifikationsproblem\"></a>\n",
    "\n",
    "Für das Klassifikationsproblem wurde bereits ein bereinigter Datensatz mit entsprechenden Labels erzeugt. Bevor die Modelle trainiert werden, soll zunächst verglichen werden, wie oft die jeweilige Klasse vorkommt. Sollte eine Klasse besonders oft vorkommen, könnten bereits dadurch gute Ergebnisse erzielt werden, indem immer auf dieselbe Klasse getippt wird."
   ]
  },
  {
   "cell_type": "code",
   "execution_count": 57,
   "id": "a24f6b06",
   "metadata": {},
   "outputs": [
    {
     "data": {
      "text/plain": [
       "Buchen\n",
       "0    16138\n",
       "1    31049\n",
       "Name: Preis, dtype: int64"
      ]
     },
     "execution_count": 57,
     "metadata": {},
     "output_type": "execute_result"
    }
   ],
   "source": [
    "df_klassifikation.groupby([\"Buchen\"]).count()[\"Preis\"]"
   ]
  },
  {
   "cell_type": "markdown",
   "id": "30b2faa4",
   "metadata": {},
   "source": [
    "Die Klassen teilen sich wie folgt auf: 34% \"nicht buchen\" (0) und 66% \"buchen\" (1). Es ist eine deutliche Mehrheit zu erkennen. Dennoch werden die Modelle trainiert und geschaut, ob diese bessere Vorhersagen treffen können, als wenn der Flug einfach immer sofort gebucht wird. Auf diese Weise würde man nämlich eine Genauigkeit von 66% erzielen. Sollte eine Genauigkeit von 66% nicht übertroffen werden, wäre eine Vorhersage dementsprechend sinnlos. \n",
    "\n",
    "Aufgrund der Erfahrungen mit dem Regressionsproblem, bei dem es teils zu sehr langen Rechenzeiten kam, wird für das Klassifikationsproblem darauf verzichtet, alle Modelle zu optimieren. Stattdessen werden zunächst alle Modelle mit Hilfe der Trainingsdaten trainiert und ein Qualitätsmaß bestimmt. Dieses Qualitätsmaß gibt an, wie viel Prozent der Daten korrekt klassifiziert wurden. Um ein Overfitting zu vermeiden, wird (wie schon zuvor bei der Regression) eine Kreuzvalidierung mit zehn Folds durchgeführt. Für alle zehn Durchläufe wird die Genauigkeit in Prozent ausgegeben. Anhand dieser Ergebnisse werden die drei besten Modelle weiter optimiert, während die anderen Modelle nicht weiter berücksichtigt werden.\n",
    "\n",
    "## 6.1. Trainieren aller Algorithmen <a class=\"anchor\" id=\"trainieren-aller-algorithmen\"></a>"
   ]
  },
  {
   "cell_type": "code",
   "execution_count": 58,
   "id": "7984cfe0",
   "metadata": {},
   "outputs": [
    {
     "name": "stdout",
     "output_type": "stream",
     "text": [
      "--------- Naiver Bayes-Klassifikator ---------\n",
      "\n",
      "Ergebnis nach Kreuzvalidierung: \n"
     ]
    },
    {
     "data": {
      "text/plain": [
       "array([0.65721854, 0.66119205, 0.66039735, 0.66410596, 0.66807947,\n",
       "       0.66516556, 0.6805298 , 0.66410596, 0.65907285, 0.66958135])"
      ]
     },
     "execution_count": 58,
     "metadata": {},
     "output_type": "execute_result"
    }
   ],
   "source": [
    "from sklearn.naive_bayes import GaussianNB\n",
    "\n",
    "print(\"--------- Naiver Bayes-Klassifikator ---------\")\n",
    "print()\n",
    "naiver_bayes_model = GaussianNB()\n",
    "naiver_bayes_model = naiver_bayes_model.fit(X_train_klas, y_train_klas)\n",
    "print(\"Ergebnis nach Kreuzvalidierung: \")\n",
    "cross_val_score(naiver_bayes_model, X_train_klas, y_train_klas, cv=10, scoring=\"accuracy\")"
   ]
  },
  {
   "cell_type": "code",
   "execution_count": 59,
   "id": "5e1aebf0",
   "metadata": {},
   "outputs": [
    {
     "name": "stdout",
     "output_type": "stream",
     "text": [
      "--------- Entscheidungsbaum (Klassifikation) ---------\n",
      "\n",
      "Ergebnis nach Kreuzvalidierung: \n"
     ]
    },
    {
     "data": {
      "text/plain": [
       "array([0.89801325, 0.90966887, 0.90437086, 0.90331126, 0.90384106,\n",
       "       0.90649007, 0.90066225, 0.90807947, 0.90675497, 0.90328564])"
      ]
     },
     "execution_count": 59,
     "metadata": {},
     "output_type": "execute_result"
    }
   ],
   "source": [
    "from sklearn.tree import DecisionTreeClassifier\n",
    "print(\"--------- Entscheidungsbaum (Klassifikation) ---------\")\n",
    "print()\n",
    "dec_klas_model = DecisionTreeClassifier()\n",
    "dec_klas_model = dec_klas_model.fit(X_train_klas, y_train_klas)\n",
    "print(\"Ergebnis nach Kreuzvalidierung: \")\n",
    "cross_val_score(dec_klas_model, X_train_klas, y_train_klas, cv=10, scoring=\"accuracy\")"
   ]
  },
  {
   "cell_type": "code",
   "execution_count": 60,
   "id": "ba295245",
   "metadata": {},
   "outputs": [
    {
     "name": "stdout",
     "output_type": "stream",
     "text": [
      "--------- Random Forest (Klassifikation) ---------\n",
      "\n",
      "Ergebnis nach Kreuzvalidierung: \n"
     ]
    },
    {
     "data": {
      "text/plain": [
       "array([0.91205298, 0.9194702 , 0.91655629, 0.91390728, 0.9181457 ,\n",
       "       0.91496689, 0.91470199, 0.91735099, 0.9210596 , 0.9154743 ])"
      ]
     },
     "execution_count": 60,
     "metadata": {},
     "output_type": "execute_result"
    }
   ],
   "source": [
    "from sklearn.ensemble import RandomForestClassifier\n",
    "\n",
    "print(\"--------- Random Forest (Klassifikation) ---------\")\n",
    "print()\n",
    "random_klas_model = RandomForestClassifier()\n",
    "random_klas_model = random_klas_model.fit(X_train_klas, y_train_klas)\n",
    "print(\"Ergebnis nach Kreuzvalidierung: \")\n",
    "cross_val_score(random_klas_model, X_train_klas, y_train_klas, cv=10, scoring=\"accuracy\")"
   ]
  },
  {
   "cell_type": "code",
   "execution_count": 61,
   "id": "bb6e8dce",
   "metadata": {},
   "outputs": [
    {
     "name": "stdout",
     "output_type": "stream",
     "text": [
      "--------- k-Nearest Neighbours (Klassifikation) ---------\n",
      "\n",
      "Ergebnis nach Kreuzvalidierung: \n"
     ]
    },
    {
     "data": {
      "text/plain": [
       "array([0.84980132, 0.84768212, 0.85112583, 0.84635762, 0.84423841,\n",
       "       0.85350993, 0.85377483, 0.85086093, 0.8397351 , 0.84870164])"
      ]
     },
     "execution_count": 61,
     "metadata": {},
     "output_type": "execute_result"
    }
   ],
   "source": [
    "from sklearn.neighbors import KNeighborsClassifier\n",
    "\n",
    "print(\"--------- k-Nearest Neighbours (Klassifikation) ---------\")\n",
    "print()\n",
    "neighbors_klas_model = KNeighborsClassifier()\n",
    "neighbors_klas_model = neighbors_klas_model.fit(X_train_klas, y_train_klas)\n",
    "print(\"Ergebnis nach Kreuzvalidierung: \")\n",
    "cross_val_score(neighbors_klas_model, X_train_klas, y_train_klas, cv=10, scoring=\"accuracy\")"
   ]
  },
  {
   "cell_type": "code",
   "execution_count": 62,
   "id": "5e3c4b2d",
   "metadata": {},
   "outputs": [
    {
     "name": "stdout",
     "output_type": "stream",
     "text": [
      "--------- SVM (Klassifikation) ---------\n",
      "\n",
      "Ergebnis nach Kreuzvalidierung: \n"
     ]
    },
    {
     "data": {
      "text/plain": [
       "array([0.68874172, 0.69271523, 0.68794702, 0.68927152, 0.6786755 ,\n",
       "       0.68370861, 0.68794702, 0.69695364, 0.6786755 , 0.68574457])"
      ]
     },
     "execution_count": 62,
     "metadata": {},
     "output_type": "execute_result"
    }
   ],
   "source": [
    "from sklearn.svm import SVC\n",
    "\n",
    "print(\"--------- SVM (Klassifikation) ---------\")\n",
    "print()\n",
    "svm_klas_model = SVC()\n",
    "svm_klas_model = svm_klas_model.fit(X_train_klas, y_train_klas)\n",
    "print(\"Ergebnis nach Kreuzvalidierung: \")\n",
    "cross_val_score(svm_klas_model, X_train_klas, y_train_klas, cv=10, scoring=\"accuracy\")"
   ]
  },
  {
   "cell_type": "code",
   "execution_count": 63,
   "id": "5071583a",
   "metadata": {},
   "outputs": [
    {
     "name": "stdout",
     "output_type": "stream",
     "text": [
      "--------- MLP (Klassifikation) ---------\n",
      "\n",
      "Ergebnis nach Kreuzvalidierung: \n"
     ]
    },
    {
     "data": {
      "text/plain": [
       "array([0.83655629, 0.82172185, 0.8402649 , 0.85589404, 0.83788079,\n",
       "       0.8405298 , 0.8413245 , 0.84529801, 0.84794702, 0.84764176])"
      ]
     },
     "execution_count": 63,
     "metadata": {},
     "output_type": "execute_result"
    }
   ],
   "source": [
    "from sklearn.neural_network import MLPClassifier\n",
    "\n",
    "print(\"--------- MLP (Klassifikation) ---------\")\n",
    "print()\n",
    "mlp_klas_model = MLPClassifier()\n",
    "mlp_klas_model = mlp_klas_model.fit(X_train_klas, y_train_klas)\n",
    "print(\"Ergebnis nach Kreuzvalidierung: \")\n",
    "cross_val_score(mlp_klas_model, X_train_klas, y_train_klas, cv=10, scoring=\"accuracy\")"
   ]
  },
  {
   "cell_type": "markdown",
   "id": "8b5f2435",
   "metadata": {},
   "source": [
    "Die drei besten Modell sind demnach:\n",
    "\n",
    "- Entscheidungsbaum mit 90.44%\n",
    "- Random Forest mit 91.64%\n",
    "- k-Nearest Neighbours mit 84.86%\n",
    "\n",
    "Diese drei Algorithmen werden nun optimiert, um genauere Vorhersagen zu treffen. Die Optimierung erfolgt auf die gleiche Weise wie beim Regressionsproblem. Mit Hilfe einer Gittersuche werden die besten Hyperparameter bestimmt. Anschließend wird das optimierte Modell trainiert und auf den Testdaten angewendet.\n",
    "\n",
    "## 6.2. Entscheidungsbäume <a class=\"anchor\" id=\"entscheidungsbaeume-2\"></a>\n",
    "\n",
    "Gittersuche:"
   ]
  },
  {
   "cell_type": "code",
   "execution_count": 64,
   "id": "e54071cf",
   "metadata": {},
   "outputs": [
    {
     "name": "stdout",
     "output_type": "stream",
     "text": [
      "Alle Ergebnisse der Gittersuche:\n",
      "0.8499034072316933 {'criterion': 'gini', 'max_depth': 10, 'min_samples_split': 2}\n",
      "0.8498769206745511 {'criterion': 'gini', 'max_depth': 10, 'min_samples_split': 4}\n",
      "0.8495855194188258 {'criterion': 'gini', 'max_depth': 10, 'min_samples_split': 6}\n",
      "0.9050836398663391 {'criterion': 'gini', 'max_depth': 20, 'min_samples_split': 2}\n",
      "0.9033616908164671 {'criterion': 'gini', 'max_depth': 20, 'min_samples_split': 4}\n",
      "0.9034676230087051 {'criterion': 'gini', 'max_depth': 20, 'min_samples_split': 6}\n",
      "0.9032292510125897 {'criterion': 'gini', 'max_depth': 30, 'min_samples_split': 2}\n",
      "0.9011099720238374 {'criterion': 'gini', 'max_depth': 30, 'min_samples_split': 4}\n",
      "0.9016132622276185 {'criterion': 'gini', 'max_depth': 30, 'min_samples_split': 6}\n",
      "0.8386186249834415 {'criterion': 'entropy', 'max_depth': 10, 'min_samples_split': 2}\n",
      "0.8389365198144748 {'criterion': 'entropy', 'max_depth': 10, 'min_samples_split': 4}\n",
      "0.8387245887574248 {'criterion': 'entropy', 'max_depth': 10, 'min_samples_split': 6}\n",
      "0.9064082519591647 {'criterion': 'entropy', 'max_depth': 20, 'min_samples_split': 2}\n",
      "0.9052691264752403 {'criterion': 'entropy', 'max_depth': 20, 'min_samples_split': 4}\n",
      "0.9049512246260415 {'criterion': 'entropy', 'max_depth': 20, 'min_samples_split': 6}\n",
      "0.9030438170399308 {'criterion': 'entropy', 'max_depth': 30, 'min_samples_split': 2}\n",
      "0.9022490834714304 {'criterion': 'entropy', 'max_depth': 30, 'min_samples_split': 4}\n",
      "0.9016397979119203 {'criterion': 'entropy', 'max_depth': 30, 'min_samples_split': 6}\n",
      "\n",
      "Die beste Kombination lautet:  DecisionTreeClassifier(criterion='entropy', max_depth=20)\n"
     ]
    }
   ],
   "source": [
    "#Erstelle zu testende Hyperparameter\n",
    "param_grid = [{\"criterion\": [\"gini\", \"entropy\"], \n",
    "               \"max_depth\": [10, 20, 30],\n",
    "              \"min_samples_split\": [2, 4, 6]}]\n",
    "\n",
    "#Führe Gittersuche durch und gebe die Ergebnisse aus\n",
    "gittersuche(dec_klas_model, param_grid, X_train_klas, y_train_klas, methode=\"accuracy\")"
   ]
  },
  {
   "cell_type": "markdown",
   "id": "fde29ecb",
   "metadata": {},
   "source": [
    "Trainiere optimiertes Modell:"
   ]
  },
  {
   "cell_type": "code",
   "execution_count": 65,
   "id": "7de680f0",
   "metadata": {},
   "outputs": [
    {
     "name": "stdout",
     "output_type": "stream",
     "text": [
      "Ergebnis nach Kreuzvalidierung: \n"
     ]
    },
    {
     "data": {
      "text/plain": [
       "array([0.90754967, 0.91231788, 0.91019868, 0.90304636, 0.91019868,\n",
       "       0.91178808, 0.90225166, 0.90860927, 0.91099338, 0.90593535])"
      ]
     },
     "execution_count": 65,
     "metadata": {},
     "output_type": "execute_result"
    }
   ],
   "source": [
    "dec_klas_model_opt = DecisionTreeClassifier(criterion=\"entropy\", max_depth=20)\n",
    "dec_klas_model_opt = dec_klas_model_opt.fit(X_train_klas, y_train_klas)\n",
    "print(\"Ergebnis nach Kreuzvalidierung: \")\n",
    "cross_val_score(dec_klas_model_opt, X_train_klas, y_train_klas, cv=10, scoring=\"accuracy\")"
   ]
  },
  {
   "cell_type": "markdown",
   "id": "371a735b",
   "metadata": {},
   "source": [
    "Durch die Kreuzvalidierung konnte das Modell lediglich um ca. 0.4% verbessert werden. Nun kann es auf die Testdaten angewendet werden, wobei zunächst die Genauigkeit in Prozent angegeben wird. Darüber hinaus wird die Konfusionsmatrix dargestellt, die die Anzahl der folgenden Ergebnisse zeigt:\n",
    "\n",
    "- richtig-negativ\n",
    "- falsch-positiv\n",
    "- falsch-negativ\n",
    "- richtig-positiv"
   ]
  },
  {
   "cell_type": "code",
   "execution_count": 66,
   "id": "ebab1cfa",
   "metadata": {},
   "outputs": [],
   "source": [
    "from sklearn.metrics import confusion_matrix\n",
    "from sklearn.metrics import accuracy_score\n",
    "from sklearn.metrics import ConfusionMatrixDisplay\n",
    "\n",
    "#Definiere Funktion, die die Genauigkeit ausgibt und anschließend die Konfusionsmatrix\n",
    "#graphisch darstellt\n",
    "\n",
    "def ergebnis_matrix(model, X_test, y_test):\n",
    "    y_pred = model.predict(X_test)\n",
    "    print(\"Genauigkeit: \", accuracy_score(y_test, y_pred))\n",
    "    print()\n",
    "    print(\"Konfusionsmatrix des Testdatensatzes:\")\n",
    "    cm = confusion_matrix(y_test, y_pred)\n",
    "    disp = ConfusionMatrixDisplay(confusion_matrix=cm, display_labels=model.classes_)\n",
    "    disp.plot()\n",
    "    plt.show()"
   ]
  },
  {
   "cell_type": "code",
   "execution_count": 67,
   "id": "9412abe5",
   "metadata": {},
   "outputs": [
    {
     "name": "stdout",
     "output_type": "stream",
     "text": [
      "Entscheidungsbaum nach Optimierung: \n",
      "\n",
      "Genauigkeit:  0.9066539521084975\n",
      "\n",
      "Konfusionsmatrix des Testdatensatzes:\n"
     ]
    },
    {
     "data": {
      "image/png": "[encoded data removed]",
      "text/plain": [
       "<Figure size 432x288 with 2 Axes>"
      ]
     },
     "metadata": {
      "needs_background": "light"
     },
     "output_type": "display_data"
    }
   ],
   "source": [
    "#Ergebnisse ausgeben\n",
    "print(\"Entscheidungsbaum nach Optimierung: \")\n",
    "print()\n",
    "ergebnis_matrix(dec_klas_model, X_test_klas, y_test_klas)"
   ]
  },
  {
   "cell_type": "markdown",
   "id": "2e0baa7f",
   "metadata": {},
   "source": [
    "## 6.3. Random Forest <a class=\"anchor\" id=\"random-forest-2\"></a>\n",
    "\n",
    "Aufgrund der extrem langen Rechenzeiten wird zur Optimierung lediglich die Anzahl an verwendeten Bäumen geprüft. Getestet werden Random Forests, die aus 50, 100 oder 200 Entscheidungsbäumen bestehen.\n",
    "\n",
    "Da der Random Forest aus vielen Entscheidungsbäumen besteht, werden zudem die für den Entscheidungsbaum besten Parameter verwendet (criterion = entropy und max_depth = 20)."
   ]
  },
  {
   "cell_type": "code",
   "execution_count": 68,
   "id": "f9d317fa",
   "metadata": {},
   "outputs": [
    {
     "name": "stdout",
     "output_type": "stream",
     "text": [
      "Alle Ergebnisse der Gittersuche:\n",
      "0.9169779743643955 {'criterion': 'entropy', 'max_depth': 20, 'min_samples_split': 2, 'n_estimators': 50}\n",
      "0.9170838819930539 {'criterion': 'entropy', 'max_depth': 20, 'min_samples_split': 2, 'n_estimators': 100}\n",
      "0.9170044609215378 {'criterion': 'entropy', 'max_depth': 20, 'min_samples_split': 2, 'n_estimators': 200}\n",
      "0.916262682921908 {'criterion': 'entropy', 'max_depth': 20, 'min_samples_split': 4, 'n_estimators': 50}\n",
      "0.9169779427826501 {'criterion': 'entropy', 'max_depth': 20, 'min_samples_split': 4, 'n_estimators': 100}\n",
      "0.9173223136435773 {'criterion': 'entropy', 'max_depth': 20, 'min_samples_split': 4, 'n_estimators': 200}\n",
      "0.9161037425245571 {'criterion': 'entropy', 'max_depth': 20, 'min_samples_split': 6, 'n_estimators': 50}\n",
      "0.9166865239815106 {'criterion': 'entropy', 'max_depth': 20, 'min_samples_split': 6, 'n_estimators': 100}\n",
      "0.9162626443219969 {'criterion': 'entropy', 'max_depth': 20, 'min_samples_split': 6, 'n_estimators': 200}\n",
      "\n",
      "Die beste Kombination lautet:  RandomForestClassifier(criterion='entropy', max_depth=20, min_samples_split=4,\n",
      "                       n_estimators=200)\n"
     ]
    }
   ],
   "source": [
    "#Erstelle zu testende Hyperparameter\n",
    "param_grid = [{\"n_estimators\": [50, 100, 200],\n",
    "                \"criterion\": [\"entropy\"], \n",
    "               \"max_depth\": [20],\n",
    "              \"min_samples_split\": [2, 4, 6]}]\n",
    "\n",
    "#Führe Gittersuche durch und gebe die Ergebnisse aus\n",
    "gittersuche(random_klas_model, param_grid, X_train_klas, y_train_klas, methode=\"accuracy\")"
   ]
  },
  {
   "cell_type": "markdown",
   "id": "5be8f6d9",
   "metadata": {},
   "source": [
    "Optimiere das Modell:"
   ]
  },
  {
   "cell_type": "code",
   "execution_count": 69,
   "id": "d9187a05",
   "metadata": {},
   "outputs": [
    {
     "name": "stdout",
     "output_type": "stream",
     "text": [
      "Ergebnis nach Kreuzvalidierung: \n"
     ]
    },
    {
     "data": {
      "text/plain": [
       "array([0.91496689, 0.9194702 , 0.91788079, 0.91602649, 0.9181457 ,\n",
       "       0.91576159, 0.91364238, 0.9197351 , 0.9192053 , 0.91600424])"
      ]
     },
     "execution_count": 69,
     "metadata": {},
     "output_type": "execute_result"
    }
   ],
   "source": [
    "random_klas_model_opt = RandomForestClassifier(criterion=\"entropy\", max_depth=20, min_samples_split=4, \n",
    "                                              n_estimators=50)\n",
    "random_klas_model_opt = random_klas_model.fit(X_train_klas, y_train_klas)\n",
    "print(\"Ergebnis nach Kreuzvalidierung: \")\n",
    "cross_val_score(random_klas_model_opt, X_train_klas, y_train_klas, cv=10, scoring=\"accuracy\")"
   ]
  },
  {
   "cell_type": "markdown",
   "id": "443c006c",
   "metadata": {},
   "source": [
    "Auch in diesem Fall konnte eine Verbesserung der Genauigkeit um lediglich ca. 0.1% erreicht werden. Es folgt die Konfusionsmatrix:"
   ]
  },
  {
   "cell_type": "code",
   "execution_count": 70,
   "id": "dc353fcf",
   "metadata": {},
   "outputs": [
    {
     "name": "stdout",
     "output_type": "stream",
     "text": [
      "Random Forest nach Optimierung: \n",
      "\n",
      "Genauigkeit:  0.9166136893409621\n",
      "\n",
      "Konfusionsmatrix des Testdatensatzes:\n"
     ]
    },
    {
     "data": {
      "image/png": "[encoded data removed]",
      "text/plain": [
       "<Figure size 432x288 with 2 Axes>"
      ]
     },
     "metadata": {
      "needs_background": "light"
     },
     "output_type": "display_data"
    }
   ],
   "source": [
    "#Ergebnisse ausgeben\n",
    "print(\"Random Forest nach Optimierung: \")\n",
    "print()\n",
    "ergebnis_matrix(random_klas_model_opt, X_test_klas, y_test_klas)"
   ]
  },
  {
   "cell_type": "markdown",
   "id": "0504dfcb",
   "metadata": {},
   "source": [
    "## 6.4. k-Nearest Neighbors <a class=\"anchor\" id=\"neigh\"></a>\n",
    "\n",
    "Gittersuche:"
   ]
  },
  {
   "cell_type": "code",
   "execution_count": 71,
   "id": "380979bf",
   "metadata": {
    "scrolled": false
   },
   "outputs": [
    {
     "name": "stdout",
     "output_type": "stream",
     "text": [
      "Alle Ergebnisse der Gittersuche:\n",
      "0.8603405599969822 {'n_neighbors': 3}\n",
      "0.8446315787626798 {'n_neighbors': 5}\n",
      "0.8336909743758 {'n_neighbors': 7}\n",
      "0.8236244158473689 {'n_neighbors': 9}\n",
      "\n",
      "Die beste Kombination lautet:  KNeighborsClassifier(n_neighbors=3)\n"
     ]
    }
   ],
   "source": [
    "#Erstelle zu testende Hyperparameter, aufgrund zu langer Rechenzeiten kann nur die Anzahl der Nachbarn \n",
    "#optimiert werden\n",
    "param_grid = [{\"n_neighbors\": [3,5,7,9]}]\n",
    "\n",
    "#Führe Gittersuche durch und gebe die Ergebnisse aus\n",
    "gittersuche(neighbors_klas_model, param_grid, X_train_klas, y_train_klas, methode=\"accuracy\")"
   ]
  },
  {
   "cell_type": "markdown",
   "id": "79879bb0",
   "metadata": {},
   "source": [
    "Optimiertes Modell:"
   ]
  },
  {
   "cell_type": "code",
   "execution_count": 72,
   "id": "4f29921b",
   "metadata": {},
   "outputs": [
    {
     "name": "stdout",
     "output_type": "stream",
     "text": [
      "Ergebnis nach Kreuzvalidierung: \n"
     ]
    },
    {
     "data": {
      "text/plain": [
       "array([0.86966887, 0.86807947, 0.87629139, 0.86940397, 0.86437086,\n",
       "       0.86807947, 0.86966887, 0.87205298, 0.86437086, 0.86777954])"
      ]
     },
     "execution_count": 72,
     "metadata": {},
     "output_type": "execute_result"
    }
   ],
   "source": [
    "neighbors_klas_model_opt = KNeighborsClassifier(n_neighbors=3)\n",
    "neighbors_klas_model_opt = neighbors_klas_model_opt.fit(X_train_klas, y_train_klas)\n",
    "print(\"Ergebnis nach Kreuzvalidierung: \")\n",
    "cross_val_score(neighbors_klas_model_opt, X_train_klas, y_train_klas, cv=10, scoring=\"accuracy\")"
   ]
  },
  {
   "cell_type": "code",
   "execution_count": 73,
   "id": "ddf49f9f",
   "metadata": {},
   "outputs": [
    {
     "name": "stdout",
     "output_type": "stream",
     "text": [
      "Genauigkeit:  0.8786819241364696\n",
      "\n",
      "Konfusionsmatrix des Testdatensatzes:\n"
     ]
    },
    {
     "data": {
      "image/png": "[encoded data removed]",
      "text/plain": [
       "<Figure size 432x288 with 2 Axes>"
      ]
     },
     "metadata": {
      "needs_background": "light"
     },
     "output_type": "display_data"
    }
   ],
   "source": [
    "ergebnis_matrix(neighbors_klas_model_opt, X_test_klas, y_test_klas)"
   ]
  },
  {
   "cell_type": "markdown",
   "id": "68b2475c",
   "metadata": {},
   "source": [
    "Das Modell konnte um ca. 2% optimiert werden, allerdings sind die Ergebnisse trotzdem schlechter als beim Random Forest. \n",
    "\n",
    "Das beste Ergebnis konnte demnach mit dem Random Forest mit einer Genauigkeit von ca. 91.66% erzielt werden. Dies ist ein gutes Ergebnis, das im weiteren Verlauf an einer Simulation angewendet werden soll."
   ]
  },
  {
   "cell_type": "markdown",
   "id": "beb0eee9",
   "metadata": {},
   "source": [
    "## 7. Simulation von Flugbuchungen <a class=\"anchor\" id=\"simulation\"></a>\n",
    "\n",
    "Zum Abschluss soll das beste Modell (jeweils für Regression und Klassifikation) angewendet werden. Hierfür werden Flugbuchungen von Passagieren simuliert und die Ersparnis in Prozent berechnet, wenn dieser Passagier auf die Empfehlung der Vorhersage hört.\n",
    "\n",
    "## 7.1. Regressionsproblem <a class=\"anchor\" id=\"simreg\"></a>\n",
    "\n",
    "Das Modell sagt die noch kommenden Flugpreise vorher. Daher kann für einen gewünschten Flug bestimmt werden, wann voraussichtlich der günstigste Flug angeboten wird. Diese Information kann genutzt werden, um das günstigste noch kommende Angebot zu buchen.\n",
    "\n",
    "Anmerkung: Der Zeitpunkt für den günstigsten vorhergesagten Flug wird nicht explizit bestimmt! Die DataFrames werden zusammengefügt, wodurch die tatsächlichen und vorhergesagten Preise dem selben DataFrame entnommen werden können. Dies ist für die Simulation ausreichend, in der Praxis wäre es allerdings sinnvoll, den Zeitpunkt auszugeben.\n",
    "\n",
    "Bei der Simulation wird wie folgt vorgegangen:\n",
    "1. Es werden 100 zufällige Datenpunkte des Datensatzes ausgewählt. Ein Datenpunkt entspricht dem Flug, den der Kunde buchen möchte und dem Zeitpunkt, zu dem er nach einem Flug sucht.\n",
    "2. Es werden alle nachfolgenden Preise für diesen Flug bis einen Tag vor Abflug bestimmt.\n",
    "3. Anschließend wird genau an dem Tag gebucht, an dem der günstigste Preis vorhergesagt wurde. Allerdings zum tatsächlichen Preis, nicht zum vorhergesagten Preis.\n",
    "\n",
    "Auf diese Weise kann die Ersparnis für diese 100 zufälligen Buchungen bestimmt werden. Dies ist die Differenz zwischen dem Preis, wenn sofort gebucht wird (Datenpunkt aus Schritt 1.) und dem Preis, der an dem vorhergesagten Tag buchbar ist (tatsächlicher Preis!). Diese Ersparnis wird in Prozent bestimmt.\n",
    "\n",
    "Aufgrund der zuvor rein zufällig gewählten Aufteilung des Trainings- und Testdatensatze wird im Folgenden wieder der gesamte Datensatz verwendet. Würde lediglich der Testdatensatz genutzt werden, wären nicht alle Flüge lückenlos vorhanden. Um dennoch ein repräsentatives Ergebnis zu erhalten, wird die Simulation 50 mal durchgespielt, sodass am Ende 5000 Flugbuchungen simuliert wurden. Dies entspricht einem Anteil von ca. 10% der gesamten Daten. Anschließend werden die Ergebnisse ausgegeben und visualisiert. "
   ]
  },
  {
   "cell_type": "code",
   "execution_count": 74,
   "id": "f4d0ed5e",
   "metadata": {},
   "outputs": [
    {
     "data": {
      "text/html": [
       "<div>\n",
       "<style scoped>\n",
       "    .dataframe tbody tr th:only-of-type {\n",
       "        vertical-align: middle;\n",
       "    }\n",
       "\n",
       "    .dataframe tbody tr th {\n",
       "        vertical-align: top;\n",
       "    }\n",
       "\n",
       "    .dataframe thead th {\n",
       "        text-align: right;\n",
       "    }\n",
       "</style>\n",
       "<table border=\"1\" class=\"dataframe\">\n",
       "  <thead>\n",
       "    <tr style=\"text-align: right;\">\n",
       "      <th></th>\n",
       "      <th>Flugnummer</th>\n",
       "      <th>Airline</th>\n",
       "      <th>Zielflughafen</th>\n",
       "      <th>Wochentag des Abflugs</th>\n",
       "      <th>Abflugzeit</th>\n",
       "      <th>Tage bis Abflug</th>\n",
       "      <th>Preis</th>\n",
       "      <th>Abflugdatum</th>\n",
       "    </tr>\n",
       "  </thead>\n",
       "  <tbody>\n",
       "    <tr>\n",
       "      <th>0</th>\n",
       "      <td>EW 7460</td>\n",
       "      <td>Eurowings</td>\n",
       "      <td>LHR</td>\n",
       "      <td>Sonntag</td>\n",
       "      <td>nachmittags</td>\n",
       "      <td>109</td>\n",
       "      <td>98</td>\n",
       "      <td>2023-02-26</td>\n",
       "    </tr>\n",
       "    <tr>\n",
       "      <th>1</th>\n",
       "      <td>EW 7460</td>\n",
       "      <td>Eurowings</td>\n",
       "      <td>LHR</td>\n",
       "      <td>Sonntag</td>\n",
       "      <td>nachmittags</td>\n",
       "      <td>108</td>\n",
       "      <td>98</td>\n",
       "      <td>2023-02-26</td>\n",
       "    </tr>\n",
       "    <tr>\n",
       "      <th>2</th>\n",
       "      <td>EW 7460</td>\n",
       "      <td>Eurowings</td>\n",
       "      <td>LHR</td>\n",
       "      <td>Sonntag</td>\n",
       "      <td>nachmittags</td>\n",
       "      <td>107</td>\n",
       "      <td>98</td>\n",
       "      <td>2023-02-26</td>\n",
       "    </tr>\n",
       "    <tr>\n",
       "      <th>3</th>\n",
       "      <td>EW 7460</td>\n",
       "      <td>Eurowings</td>\n",
       "      <td>LHR</td>\n",
       "      <td>Sonntag</td>\n",
       "      <td>nachmittags</td>\n",
       "      <td>106</td>\n",
       "      <td>98</td>\n",
       "      <td>2023-02-26</td>\n",
       "    </tr>\n",
       "    <tr>\n",
       "      <th>4</th>\n",
       "      <td>EW 7460</td>\n",
       "      <td>Eurowings</td>\n",
       "      <td>LHR</td>\n",
       "      <td>Sonntag</td>\n",
       "      <td>nachmittags</td>\n",
       "      <td>105</td>\n",
       "      <td>98</td>\n",
       "      <td>2023-02-26</td>\n",
       "    </tr>\n",
       "  </tbody>\n",
       "</table>\n",
       "</div>"
      ],
      "text/plain": [
       "  Flugnummer    Airline Zielflughafen Wochentag des Abflugs   Abflugzeit  \\\n",
       "0    EW 7460  Eurowings           LHR               Sonntag  nachmittags   \n",
       "1    EW 7460  Eurowings           LHR               Sonntag  nachmittags   \n",
       "2    EW 7460  Eurowings           LHR               Sonntag  nachmittags   \n",
       "3    EW 7460  Eurowings           LHR               Sonntag  nachmittags   \n",
       "4    EW 7460  Eurowings           LHR               Sonntag  nachmittags   \n",
       "\n",
       "   Tage bis Abflug  Preis Abflugdatum  \n",
       "0              109     98  2023-02-26  \n",
       "1              108     98  2023-02-26  \n",
       "2              107     98  2023-02-26  \n",
       "3              106     98  2023-02-26  \n",
       "4              105     98  2023-02-26  "
      ]
     },
     "execution_count": 74,
     "metadata": {},
     "output_type": "execute_result"
    }
   ],
   "source": [
    "#Zusammenführen der bereinigten Daten mit den Abflugdaten, da dies zur Identifikation der Flüge notwendig ist\n",
    "simu_daten = pd.concat([df_bereinigt, abflugdaten], axis=1)\n",
    "simu_daten.head()"
   ]
  },
  {
   "cell_type": "code",
   "execution_count": 75,
   "id": "205555b8",
   "metadata": {
    "scrolled": false
   },
   "outputs": [],
   "source": [
    "#Es wird eine Funktion definiert, die o.g. Vorgehen simuliert. Es werden 100 zufällige Buchungen simuliert.\n",
    "#Zurückgegeben werden Zählervariablen, die die Anzahl gesparter, draufgezahlter und gleicher Preise speichert.\n",
    "#Zudem wird eine Liste zurückgegeben, die die Ersparnis in % jeder Zufallsbuchung enthält, wenn\n",
    "#auf die Empfehlung des Modells gehört wird\n",
    "import random\n",
    "\n",
    "def simuliere_regressionsproblem(gespart, draufgezahlt, gleich):\n",
    "    \n",
    "    #Listen für Preise (Preis sofort gebucht oder auf Empfehlung gehört)\n",
    "    sofort_buchen = []\n",
    "    auf_algo_hoeren = []\n",
    "\n",
    "    #Bestimme 10 zufällige Datenpunkte aus dem Datensatz anhand des Indexes\n",
    "    index = random.sample(simu_daten.index.tolist(),100)\n",
    "\n",
    "    for i in index:\n",
    "        #Suche alle noch kommenden Flugpreise für diesen Flug\n",
    "        #Besorge den entsprechenden Flug im Datensatz (Kombination aus Flugnummer und Datum)\n",
    "        #Nur Flüge, die näher dran sind am Abflug\n",
    "        kommende_fluege = simu_daten.copy()\n",
    "        kommende_fluege = kommende_fluege[(kommende_fluege[\"Flugnummer\"] == simu_daten.loc[i][\"Flugnummer\"]) & \n",
    "                        (kommende_fluege[\"Abflugdatum\"] == simu_daten.loc[i][\"Abflugdatum\"]) &\n",
    "                       (kommende_fluege[\"Tage bis Abflug\"] <= simu_daten.loc[i][\"Tage bis Abflug\"])]\n",
    "    \n",
    "        #Sage für alle kommenden Flüge die Preise mittels MLP-Modell vorher. \n",
    "        #Zunächst muss der Datensatz angepasst werden (Spalte \"Abflugdatum\" entfernen + one-hot-codierung)\n",
    "        vorherzusagende_fluege = kommende_fluege.drop([\"Abflugdatum\"], axis=1)\n",
    "        vorherzusagende_onehot = onehot_encoder_reg.transform(vorherzusagende_fluege)\n",
    "    \n",
    "        #Vorhersage\n",
    "        vorh_preise = mlp_reg_model_opt.predict(vorherzusagende_onehot.drop([\"Preis\"], axis=1))\n",
    "    \n",
    "        #Füge vorhergesagte Preise in das gleiche DataFrame wie die restlichen Flugdaten für diesen Flug\n",
    "        kommende_fluege[\"Vorhergesagter Preis\"] = vorh_preise\n",
    "    \n",
    "        #Bestimme den Index des günstigsten Fluges und \"buche\" diesen\n",
    "        index_preis = kommende_fluege[\"Vorhergesagter Preis\"].idxmin()\n",
    "    \n",
    "        #Füge den aktuellen Preis der Liste hinzu, wenn sofort gebucht werden soll\n",
    "        sofort_buchen.append((kommende_fluege.iloc[0][\"Preis\"]))\n",
    "    \n",
    "        #Füge den tatsächlichen Preis der Liste hinzu, wenn auf den Algorithmus gehört werden soll\n",
    "        auf_algo_hoeren.append(kommende_fluege.loc[index_preis][\"Preis\"])\n",
    "        \n",
    "        #Passe die Zähler an\n",
    "        if((kommende_fluege.iloc[0][\"Preis\"])) == ((kommende_fluege.loc[index_preis][\"Preis\"])):\n",
    "            gleich = gleich+1\n",
    "        elif((kommende_fluege.iloc[0][\"Preis\"])) > ((kommende_fluege.loc[index_preis][\"Preis\"])):\n",
    "            gespart = gespart+1\n",
    "        else:\n",
    "            draufgezahlt = draufgezahlt+1\n",
    "    \n",
    "    #Bestimme die Ersparnisse und speicher diese in einer Liste\n",
    "    ersparnisse = []\n",
    "    \n",
    "    #Gehe beide Listen mit den Preisen durch, bestimme die prozentuale Ersparnis\n",
    "    for j in range(len(sofort_buchen)):\n",
    "        diff = sofort_buchen[j] - auf_algo_hoeren[j]\n",
    "        prozent = round(diff/sofort_buchen[j]*100, 2)\n",
    "        ersparnisse.append(prozent)\n",
    "    \n",
    "    #Gebe Zähler und Liste mit prozentualer Ersparnis zurück\n",
    "    return gespart, draufgezahlt, gleich, ersparnisse"
   ]
  },
  {
   "cell_type": "code",
   "execution_count": 76,
   "id": "22e9c37e",
   "metadata": {},
   "outputs": [],
   "source": [
    "#definiere Funktion, um Ergebnisse auszugeben\n",
    "def sim_ergebnisse(gespart, draufgezahlt, gleich, differenzen):\n",
    "    \n",
    "    #Gebe die Ergebnisse aus\n",
    "    print(\"Anzahl der Buchungen, bei denen der Preis gleich blieb: \", gleich)\n",
    "    print(\"Anzahl der Buchungen, bei denen draufgezahlt wurde: \", draufgezahlt)\n",
    "    print(\"Anzahl der Buchungen, bei denen gespart wurde: \", gespart)\n",
    "\n",
    "    #Entferne alle Nullen aus der Liste, da nicht gespart wurde\n",
    "    differenzen_pos = [dif for dif in differenzen if dif > 0]\n",
    "    differenzen_neg = [dif for dif in differenzen if dif < 0]\n",
    "    print()\n",
    "    print(\"Anteil der Buchungen, bei denen draufgezahlt wurde: \", round((draufgezahlt)/(gespart+draufgezahlt+\n",
    "                                                                                    gleich)*100,2), \"%\")\n",
    "    print(\"Der durchschnittliche Aufpreis beträgt: \", -(round(sum(differenzen_neg)/len(differenzen_neg),2)), \"%\")\n",
    "    print()\n",
    "    print(\"Anteil der Buchungen, bei denen gespart wurde: \", round((gespart)/(gespart+draufgezahlt+gleich)*100,2), \"%\")\n",
    "    print(\"Die durchschnittliche Ersparnis beträgt: \", round(sum(differenzen_pos)/len(differenzen_pos),2), \"%\")\n",
    "    \n",
    "    #Plotten der Ergebnisse im Histogram\n",
    "    plt.hist([differenzen_pos + differenzen_neg], bins=5)\n",
    "    plt.xlabel(\"Ersparnis in Prozent\")\n",
    "    plt.ylabel(\"Anzahl der Buchungen\")\n",
    "    plt.title(\"Verteilung der Ersparnisse\")\n",
    "    plt.show()\n",
    "    return"
   ]
  },
  {
   "cell_type": "code",
   "execution_count": 77,
   "id": "8d13cf42",
   "metadata": {},
   "outputs": [
    {
     "name": "stdout",
     "output_type": "stream",
     "text": [
      "Anzahl der Buchungen, bei denen der Preis gleich blieb:  3833\n",
      "Anzahl der Buchungen, bei denen draufgezahlt wurde:  488\n",
      "Anzahl der Buchungen, bei denen gespart wurde:  679\n",
      "\n",
      "Anteil der Buchungen, bei denen draufgezahlt wurde:  9.76 %\n",
      "Der durchschnittliche Aufpreis beträgt:  21.01 %\n",
      "\n",
      "Anteil der Buchungen, bei denen gespart wurde:  13.58 %\n",
      "Die durchschnittliche Ersparnis beträgt:  22.84 %\n"
     ]
    },
    {
     "data": {
      "image/png": "[encoded data removed]",
      "text/plain": [
       "<Figure size 432x288 with 1 Axes>"
      ]
     },
     "metadata": {
      "needs_background": "light"
     },
     "output_type": "display_data"
    }
   ],
   "source": [
    "#Simuliere 50 mal und bestimme die Durchschnittswerte. Stelle die Ergebnisse graphisch dar.\n",
    "\n",
    "#Zählervariablen\n",
    "gespart = 0\n",
    "draufgezahlt = 0\n",
    "gleich = 0\n",
    "differenzen = []\n",
    "\n",
    "#Simuliere 50 mal jeweils 100 Buchungen\n",
    "for i in range(50):\n",
    "    gespart, draufgezahlt, gleich, differenz = simuliere_regressionsproblem(\n",
    "        gespart, draufgezahlt, gleich)\n",
    "    for d in differenz:\n",
    "        differenzen.append(d)\n",
    "#Gebe die Ergebnisse aus\n",
    "sim_ergebnisse(gespart, draufgezahlt, gleich, differenzen)"
   ]
  },
  {
   "cell_type": "markdown",
   "id": "80f55182",
   "metadata": {},
   "source": [
    "Die Ergebnisse können obigem Histogramm entnommen werden. Hier wird die Anzahl der Buchungen (y-Achse) dargestellt, die einen bestimmten Prozentsatz (x-Achse) gespart haben, indem auf die Empfehlung des Modells gehört wurde. Ein negativer Prozentsatz bedeutet, dass die Buchung am Ende zu einem höheren Preis getätigt wurde, als wenn man sofort gebucht hätte.\n",
    "\n",
    "Insgesamt ist zu erkennen, dass es nicht sinnvoll ist, auf die Vorhersagen des Modells zu vertrauen. In nur 13% aller Test-Buchungen wurde überhaupt Geld gespart. In 10% der Buchungen musste sogar mehr bezahlt werden, als wenn man sofort gebucht hätte. "
   ]
  },
  {
   "cell_type": "markdown",
   "id": "9c77a961",
   "metadata": {},
   "source": [
    "## 7.2. Klassifikationsproblem <a class=\"anchor\" id=\"simklas\"></a>\n",
    "\n",
    "Auch für das Klassifikationsproblem sollen zufällige Buchungen simuliert werden, um die Ersparnis zu berechnen, wenn den Empfehlungen des Modells gefolgt wird. Hierfür werden erneut insgesamt 5000 zufällige Datenzeilen ausgewählt, die einen vom Kunden gewünschten Flug darstellen (insbesondere gekennzeichnet durch Flugnummer und Abflugdatum). Diese hohe Anzahl ist notwendig, um ein repräsentatives Ergebnis zu erhalten. Aufgrund der zufälligen Auswahl von Trainings- und Testdaten ist es nicht möglich, die Simulation allein auf den Testdaten durchzuführen, da zu viele Lücken vorhanden sind. Allerdings sei darauf hingewiesen, dass die Ergebnisse der Kreuzvalidierung auf dem Trainingsdatensatz (91.71%) dem Ergebnis des Testdatensatzes (91.66%) sehr nahe kommt, weshalb nicht von einem Over- oder Underfitting auszugehen ist.\n",
    "\n",
    "Das Kundenverhalten soll wie folgt simuliert werden:\n",
    "\n",
    "1. Betrachte den ausgewählten Flug, und bestimme Klassifikation (1 (buchen) / 0 (nicht buchen)).\n",
    "2. Wenn 1, dann buche den Flug sofort.\n",
    "3. Wenn 0, buche den Flug nicht und schaue am nachfolgenden Tag erneut nach dem Preis, beginne wieder mit Punkt 1."
   ]
  },
  {
   "cell_type": "code",
   "execution_count": 78,
   "id": "966d8d5f",
   "metadata": {},
   "outputs": [
    {
     "data": {
      "text/html": [
       "<div>\n",
       "<style scoped>\n",
       "    .dataframe tbody tr th:only-of-type {\n",
       "        vertical-align: middle;\n",
       "    }\n",
       "\n",
       "    .dataframe tbody tr th {\n",
       "        vertical-align: top;\n",
       "    }\n",
       "\n",
       "    .dataframe thead th {\n",
       "        text-align: right;\n",
       "    }\n",
       "</style>\n",
       "<table border=\"1\" class=\"dataframe\">\n",
       "  <thead>\n",
       "    <tr style=\"text-align: right;\">\n",
       "      <th></th>\n",
       "      <th>Flugnummer</th>\n",
       "      <th>Airline</th>\n",
       "      <th>Zielflughafen</th>\n",
       "      <th>Wochentag des Abflugs</th>\n",
       "      <th>Abflugzeit</th>\n",
       "      <th>Tage bis Abflug</th>\n",
       "      <th>Preis</th>\n",
       "      <th>Buchen</th>\n",
       "      <th>Abflugdatum</th>\n",
       "    </tr>\n",
       "  </thead>\n",
       "  <tbody>\n",
       "    <tr>\n",
       "      <th>0</th>\n",
       "      <td>EW 7460</td>\n",
       "      <td>Eurowings</td>\n",
       "      <td>LHR</td>\n",
       "      <td>Sonntag</td>\n",
       "      <td>nachmittags</td>\n",
       "      <td>109</td>\n",
       "      <td>98</td>\n",
       "      <td>0</td>\n",
       "      <td>2023-02-26</td>\n",
       "    </tr>\n",
       "    <tr>\n",
       "      <th>1</th>\n",
       "      <td>EW 7460</td>\n",
       "      <td>Eurowings</td>\n",
       "      <td>LHR</td>\n",
       "      <td>Sonntag</td>\n",
       "      <td>nachmittags</td>\n",
       "      <td>108</td>\n",
       "      <td>98</td>\n",
       "      <td>0</td>\n",
       "      <td>2023-02-26</td>\n",
       "    </tr>\n",
       "    <tr>\n",
       "      <th>2</th>\n",
       "      <td>EW 7460</td>\n",
       "      <td>Eurowings</td>\n",
       "      <td>LHR</td>\n",
       "      <td>Sonntag</td>\n",
       "      <td>nachmittags</td>\n",
       "      <td>107</td>\n",
       "      <td>98</td>\n",
       "      <td>0</td>\n",
       "      <td>2023-02-26</td>\n",
       "    </tr>\n",
       "    <tr>\n",
       "      <th>3</th>\n",
       "      <td>EW 7460</td>\n",
       "      <td>Eurowings</td>\n",
       "      <td>LHR</td>\n",
       "      <td>Sonntag</td>\n",
       "      <td>nachmittags</td>\n",
       "      <td>106</td>\n",
       "      <td>98</td>\n",
       "      <td>0</td>\n",
       "      <td>2023-02-26</td>\n",
       "    </tr>\n",
       "    <tr>\n",
       "      <th>4</th>\n",
       "      <td>EW 7460</td>\n",
       "      <td>Eurowings</td>\n",
       "      <td>LHR</td>\n",
       "      <td>Sonntag</td>\n",
       "      <td>nachmittags</td>\n",
       "      <td>105</td>\n",
       "      <td>98</td>\n",
       "      <td>0</td>\n",
       "      <td>2023-02-26</td>\n",
       "    </tr>\n",
       "  </tbody>\n",
       "</table>\n",
       "</div>"
      ],
      "text/plain": [
       "  Flugnummer    Airline Zielflughafen Wochentag des Abflugs   Abflugzeit  \\\n",
       "0    EW 7460  Eurowings           LHR               Sonntag  nachmittags   \n",
       "1    EW 7460  Eurowings           LHR               Sonntag  nachmittags   \n",
       "2    EW 7460  Eurowings           LHR               Sonntag  nachmittags   \n",
       "3    EW 7460  Eurowings           LHR               Sonntag  nachmittags   \n",
       "4    EW 7460  Eurowings           LHR               Sonntag  nachmittags   \n",
       "\n",
       "   Tage bis Abflug  Preis  Buchen Abflugdatum  \n",
       "0              109     98       0  2023-02-26  \n",
       "1              108     98       0  2023-02-26  \n",
       "2              107     98       0  2023-02-26  \n",
       "3              106     98       0  2023-02-26  \n",
       "4              105     98       0  2023-02-26  "
      ]
     },
     "execution_count": 78,
     "metadata": {},
     "output_type": "execute_result"
    }
   ],
   "source": [
    "#Zusammenführen der Klassifikations-Daten mit den Abflugdaten, da diese zur Identifikation der Flüge notwendig ist\n",
    "simu_daten = pd.concat([df_klassifikation, abflugdaten], axis=1)\n",
    "simu_daten.head()"
   ]
  },
  {
   "cell_type": "code",
   "execution_count": 97,
   "id": "45ce7684",
   "metadata": {},
   "outputs": [],
   "source": [
    "#Es wird eine Funktion definiert, die o.g. Vorgehen simuliert. Es werden 100 zufällige Buchungen simuliert.\n",
    "#Zurückgegeben werden Zählervariablen, die die Anzahl gesparter, draufgezahlter und gleicher Preise speichert.\n",
    "#Zudem wird eine Liste zurückgegeben, die die Ersparnis in % jeder Zufallsbuchung enthält, wenn\n",
    "#auf die Empfehlung des Modells gehört wird.\n",
    "def simuliere_klassifikationsproblem(data, gespart, draufgezahlt, gleich):\n",
    "    \n",
    "    #Listen für Preise (Preis sofort gebucht oder auf Empfehlung gehört)\n",
    "    sofort_buchen = []\n",
    "    auf_algo_hoeren = []\n",
    "\n",
    "    #Bestimme 10 zufällige Datenpunkte aus dem Datensatz anhand des Indexes\n",
    "    index = random.sample(data.index.tolist(),100)\n",
    "    \n",
    "    #Gehe jeden Datenpunkt einzeln durch\n",
    "    for i in index:\n",
    "        #Abbruchbedingung auf 0 setzen\n",
    "        abbruch = 0\n",
    "        #Kopiere Datenzeile als dataframe\n",
    "        zeile = data.loc[[i]].copy() \n",
    "        \n",
    "        #Solange kein Flug gebucht wurde, wiederhole while-Schleife\n",
    "        while(abbruch == 0):\n",
    "            #Breche Schleife ab, wenn in \"zeile\" keine Daten sind. Dies passiert, wenn kein nachfolgender\n",
    "            #Dateneintrag vorhanden ist, weil einige Daten fehlen -> berücksichtige die Buchung nicht\n",
    "            if(zeile.empty):\n",
    "                break\n",
    "            \n",
    "            #Entferne das Abflugdatum, codiere in onehot und entferne Label\n",
    "            ohne_label = zeile.drop([\"Abflugdatum\"], axis=1)\n",
    "            datenzeile_onehot = onehot_encoder_klas.transform(ohne_label)\n",
    "            datenzeile_onehot = datenzeile_onehot.drop([\"Buchen\"], axis=1)\n",
    "            \n",
    "            #Sage für die ausgewählte Zeile vorher, ob buchen oder nicht buchen\n",
    "            vorhersage = random_klas_model_opt.predict(datenzeile_onehot)\n",
    "            \n",
    "            #Wenn buchen, setze Abbruchkriterium, schreibe Preise in die Listen und erhöhe Zähler\n",
    "            if(int(vorhersage) == 1):\n",
    "                abbruch = 1\n",
    "                sofort_buchen.append(int(data.loc[i][\"Preis\"]))  #tats. Preis des zufälligen Datenpunkts\n",
    "                auf_algo_hoeren.append(int(zeile[\"Preis\"]))            #tats. Preis zum vorhergesagten Tag\n",
    "                \n",
    "                #Passe die Zähler an\n",
    "                if((int(data.loc[i][\"Preis\"])) == (int(zeile[\"Preis\"]))):\n",
    "                    gleich = gleich+1\n",
    "                elif((int(data.loc[i][\"Preis\"])) > (int(zeile[\"Preis\"]))):\n",
    "                    gespart = gespart+1\n",
    "                else:\n",
    "                    draufgezahlt = draufgezahlt+1\n",
    "            #Sonst finde den Datenpunkt am Folgetag und wiederhole Schleife mit diesem Datenpunkt\n",
    "            else:\n",
    "                tage = int(zeile[\"Tage bis Abflug\"])\n",
    "                #Die verringerte Anzahl der Tage muss mind. 1 betragen, sonst existiert der Datenpunkt nicht\n",
    "                if(tage-1 >= 1):\n",
    "                    zeile = pd.DataFrame(data[(simu_daten[\"Abflugdatum\"] == data.loc[i][\"Abflugdatum\"]) &\n",
    "                                      (data[\"Flugnummer\"] == data.loc[i][\"Flugnummer\"]) &\n",
    "                                      (data[\"Tage bis Abflug\"] == tage-1)])\n",
    "                else:\n",
    "                    break\n",
    "    \n",
    "    #Bestimme die Ersparnisse und speicher diese in einer Liste\n",
    "    ersparnisse = []\n",
    "    \n",
    "    #Gehe beide Listen mit den Preisen durch, bestimme die prozentuale Ersparnis\n",
    "    for j in range(len(sofort_buchen)):\n",
    "        diff = sofort_buchen[j] - auf_algo_hoeren[j]\n",
    "        prozent = round(diff/sofort_buchen[j]*100, 2)\n",
    "        ersparnisse.append(prozent) \n",
    "    #Gebe Zähler und Liste mit prozentualer Ersparnis zurück\n",
    "    return gespart, draufgezahlt, gleich, ersparnisse"
   ]
  },
  {
   "cell_type": "code",
   "execution_count": 86,
   "id": "c3011186",
   "metadata": {},
   "outputs": [
    {
     "name": "stdout",
     "output_type": "stream",
     "text": [
      "Anzahl der Buchungen, bei denen der Preis gleich blieb:  3545\n",
      "Anzahl der Buchungen, bei denen draufgezahlt wurde:  100\n",
      "Anzahl der Buchungen, bei denen gespart wurde:  1355\n",
      "\n",
      "Anteil der Buchungen, bei denen draufgezahlt wurde:  2.0 %\n",
      "Der durchschnittliche Aufpreis beträgt:  17.73 %\n",
      "\n",
      "Anteil der Buchungen, bei denen gespart wurde:  27.1 %\n",
      "Die durchschnittliche Ersparnis beträgt:  23.99 %\n"
     ]
    },
    {
     "data": {
      "image/png": "[encoded data removed]",
      "text/plain": [
       "<Figure size 432x288 with 1 Axes>"
      ]
     },
     "metadata": {
      "needs_background": "light"
     },
     "output_type": "display_data"
    }
   ],
   "source": [
    "#Zählervariablen\n",
    "gespart = 0\n",
    "draufgezahlt = 0\n",
    "gleich = 0\n",
    "differenzen = []\n",
    "\n",
    "#Simuliere 50 mal jeweils 100 Buchungen\n",
    "for i in range(50):\n",
    "    gespart, draufgezahlt, gleich, differenz = simuliere_klassifikationsproblem(\n",
    "        simu_daten, gespart, draufgezahlt, gleich)\n",
    "    for d in differenz:\n",
    "        differenzen.append(d)\n",
    "#Gebe die Ergebnisse aus\n",
    "sim_ergebnisse(gespart, draufgezahlt, gleich, differenzen)"
   ]
  },
  {
   "cell_type": "markdown",
   "id": "0ec090f5",
   "metadata": {},
   "source": [
    "Die Ergebnisse sehen sehr erfreulich aus. In 70.9% aller Test-Buchungen hat das System die sofortige Buchung empfohlen. Auf diese Weise wurde kein Geld gespart, aber es wurde bereits ein günstiger Flug gebucht.\n",
    "\n",
    "Interessanter ist die Erkenntnis, dass 27.1% aller Buchungen durch die Empfehlung des Modells bei der Buchung gespart haben. Die Ersparnis liegt im Durchschnitt bei 23.99%. \n",
    "\n",
    "Lediglich in 2% aller Buchungen musste zu einem teureren Preis gebucht werden, der im Schnitt 17.73% teurer war. Allerdings sind dies nur 100 von 5000 Buchungen, weshalb die geringe Anzahl von Fehlentscheidungen in Kauf genommen werden kann."
   ]
  },
  {
   "cell_type": "markdown",
   "id": "21b6dc77",
   "metadata": {},
   "source": [
    "## 8. Fazit <a class=\"anchor\" id=\"fazit\"></a>\n",
    "\n",
    "## 8.1. Regressionsproblem <a class=\"anchor\" id=\"fazit2\"></a>\n",
    "\n",
    "Das Ergebnis des besten Modells ist nicht zufriedenstellend. Ein Einsparpotenzial ist nicht gegeben, da in vielen Fällen auch mehr gezahlt werden musste, als wenn man sofort gebucht hätte. In der Praxis könnte dieses Modell daher nicht angewendet werden. \n",
    "\n",
    "Machine Learning eignet sich demnach - **zumindest bezogen auf den vorhandenen Datensatz** - nicht, um Flugpreise exakt vorherzusagen, da die Abweichungen zu hoch sind. Dies kann damit begründet werden, dass die jeweilige Preisgestaltung der Airlines zu komplex und unterschiedlich ist, sodass keine Muster in den tatsächlichen Preisen gefunden werden können. Es kann auch sein, dass Airlines ihre Preisgestaltungsstrategien regelmäßig ändern, um eben solche Muster nicht entdecken zu können.\n",
    "\n",
    "## 8.2. Klassifikationsproblem <a class=\"anchor\" id=\"fazit3\"></a>\n",
    "\n",
    "Die Ergebnisse der Klassifikation sind zufriedenstellend und bieten ein Einsparpotenzial, da Genauigkeiten von ca. 91% erzielt werden konnten. Bei der Simulation von Flugbuchungen konnte bei mehr als einem Viertel der Buchungen Geld gespart werden, indem auf die Empfehlung des Modells geachtet wurde. \n",
    "\n",
    "Demnach eignet sich Machine Learning sehr wohl, um Kunden eine Buchungsempfehlung auszusprechen. Angewendet auf einen deutlich größeren Datensatz mit diversen Airlines und Flughäfen könnten die Ergebnisse der Klassifikation weiter verbessert werden, um noch höhere Einsparungen ermöglichen zu können."
   ]
  },
  {
   "cell_type": "code",
   "execution_count": null,
   "id": "77204775",
   "metadata": {},
   "outputs": [],
   "source": []
  }
 ],
 "metadata": {
  "kernelspec": {
   "display_name": "Python 3 (ipykernel)",
   "language": "python",
   "name": "python3"
  },
  "language_info": {
   "codemirror_mode": {
    "name": "ipython",
    "version": 3
   },
   "file_extension": ".py",
   "mimetype": "text/x-python",
   "name": "python",
   "nbconvert_exporter": "python",
   "pygments_lexer": "ipython3",
   "version": "3.8.8"
  }
 },
 "nbformat": 4,
 "nbformat_minor": 5
}
